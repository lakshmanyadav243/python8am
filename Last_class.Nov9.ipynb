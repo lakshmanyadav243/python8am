{
 "cells": [
  {
   "cell_type": "code",
   "execution_count": 2,
   "id": "05b337b1",
   "metadata": {},
   "outputs": [
    {
     "name": "stdout",
     "output_type": "stream",
     "text": [
      "Enter a value =sd\n",
      "error\n"
     ]
    }
   ],
   "source": [
    "try:\n",
    "    a = int(input(\"Enter a value =\"))\n",
    "except:\n",
    "    print(\"error\")"
   ]
  },
  {
   "cell_type": "code",
   "execution_count": 4,
   "id": "a6262169",
   "metadata": {},
   "outputs": [
    {
     "name": "stdout",
     "output_type": "stream",
     "text": [
      "enter a valueas\n",
      "error\n"
     ]
    }
   ],
   "source": [
    "try:\n",
    "    a =int(input(\"enter a value\"))\n",
    "    b =int(input(\"enter b value\"))\n",
    "    c = a/b\n",
    "    print(c)\n",
    "except:\n",
    "    print(\"error\")"
   ]
  },
  {
   "cell_type": "code",
   "execution_count": 8,
   "id": "e4d28d40",
   "metadata": {},
   "outputs": [
    {
     "name": "stdout",
     "output_type": "stream",
     "text": [
      "enter a values\n",
      "please enter int value\n"
     ]
    }
   ],
   "source": [
    "try:\n",
    "    a =int(input(\"enter a value\"))\n",
    "    b =int(input(\"enter b value\"))\n",
    "    c = a/b\n",
    "    print(c)\n",
    "except ValueError:\n",
    "    print(\"please enter int value\")"
   ]
  },
  {
   "cell_type": "code",
   "execution_count": 9,
   "id": "99371be4",
   "metadata": {},
   "outputs": [
    {
     "name": "stdout",
     "output_type": "stream",
     "text": [
      "enter a value2\n",
      "enter b value0\n",
      "The value of b can't be Zero\n"
     ]
    }
   ],
   "source": [
    "try:\n",
    "    a =int(input(\"enter a value\"))\n",
    "    b =int(input(\"enter b value\"))\n",
    "    c = a/b\n",
    "    print(c)\n",
    "except ValueError:\n",
    "    print(\"please enter int value\")\n",
    "    \n",
    "except ZeroDivisionError:\n",
    "    print(\"The value of b can't be Zero\")"
   ]
  },
  {
   "cell_type": "code",
   "execution_count": null,
   "id": "f9a74af1",
   "metadata": {},
   "outputs": [],
   "source": [
    "assort"
   ]
  },
  {
   "cell_type": "code",
   "execution_count": null,
   "id": "64323f95",
   "metadata": {},
   "outputs": [],
   "source": [
    "a =int(i)"
   ]
  },
  {
   "cell_type": "code",
   "execution_count": 7,
   "id": "7134a74d",
   "metadata": {},
   "outputs": [
    {
     "name": "stdout",
     "output_type": "stream",
     "text": [
      "enter a =23\n",
      "The value of a is odd\n"
     ]
    }
   ],
   "source": [
    "a = int(input(\"Enter a =\"))\n",
    "try:\n",
    "    assert a%2==0\n",
    "except:\n",
    "    print(\"The value of a is odd\")"
   ]
  },
  {
   "cell_type": "code",
   "execution_count": null,
   "id": "bd598975",
   "metadata": {},
   "outputs": [],
   "source": [
    "# matplotlib"
   ]
  }
 ],
 "metadata": {
  "kernelspec": {
   "display_name": "Python 3 (ipykernel)",
   "language": "python",
   "name": "python3"
  },
  "language_info": {
   "codemirror_mode": {
    "name": "ipython",
    "version": 3
   },
   "file_extension": ".py",
   "mimetype": "text/x-python",
   "name": "python",
   "nbconvert_exporter": "python",
   "pygments_lexer": "ipython3",
   "version": "3.9.12"
  }
 },
 "nbformat": 4,
 "nbformat_minor": 5
}
