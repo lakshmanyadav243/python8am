{
 "cells": [
  {
   "cell_type": "code",
   "execution_count": null,
   "id": "191896db",
   "metadata": {},
   "outputs": [],
   "source": [
    "# dictionary\n",
    "# indexed\n",
    "# Duplicate value\n",
    "# Ordered\n",
    "# Mutable"
   ]
  },
  {
   "cell_type": "code",
   "execution_count": 1,
   "id": "ba9bcd6f",
   "metadata": {},
   "outputs": [],
   "source": [
    "d = dict()\n",
    "d ={}"
   ]
  },
  {
   "cell_type": "code",
   "execution_count": 2,
   "id": "a4c8173d",
   "metadata": {},
   "outputs": [
    {
     "data": {
      "text/plain": [
       "{'a': 'apple', 'b': 'Ball'}"
      ]
     },
     "execution_count": 2,
     "metadata": {},
     "output_type": "execute_result"
    }
   ],
   "source": [
    "d = {\"a\":\"apple\",\"b\":\"Ball\"}\n",
    "d"
   ]
  },
  {
   "cell_type": "code",
   "execution_count": 5,
   "id": "b382fa51",
   "metadata": {},
   "outputs": [
    {
     "data": {
      "text/plain": [
       "'Ball'"
      ]
     },
     "execution_count": 5,
     "metadata": {},
     "output_type": "execute_result"
    }
   ],
   "source": [
    "d['b']"
   ]
  },
  {
   "cell_type": "code",
   "execution_count": 6,
   "id": "48efea81",
   "metadata": {},
   "outputs": [
    {
     "data": {
      "text/plain": [
       "{'a': 'apple', 'b': 'ball', 'A': 'apple'}"
      ]
     },
     "execution_count": 6,
     "metadata": {},
     "output_type": "execute_result"
    }
   ],
   "source": [
    "d = {'a':'apple','b':'ball','A':'apple'}\n",
    "d"
   ]
  },
  {
   "cell_type": "code",
   "execution_count": 9,
   "id": "858ba87f",
   "metadata": {},
   "outputs": [
    {
     "data": {
      "text/plain": [
       "{'A': 'apple', 'B': 'ball'}"
      ]
     },
     "execution_count": 9,
     "metadata": {},
     "output_type": "execute_result"
    }
   ],
   "source": [
    "d ={'A':'apple','B':'ball','A':\"apple\"}\n",
    "d"
   ]
  },
  {
   "cell_type": "code",
   "execution_count": 10,
   "id": "7f4ecc8f",
   "metadata": {},
   "outputs": [
    {
     "data": {
      "text/plain": [
       "{'a': 'apple', 'b': 'ball', 'A': 'apple', 'c': 'cat'}"
      ]
     },
     "execution_count": 10,
     "metadata": {},
     "output_type": "execute_result"
    }
   ],
   "source": [
    "# to concate the data in dictionary\n",
    "\n",
    "d ={'a':'apple',\"b\":'ball','A':'apple'}\n",
    "d['c']='cat'\n",
    "d"
   ]
  },
  {
   "cell_type": "code",
   "execution_count": 11,
   "id": "55670098",
   "metadata": {},
   "outputs": [
    {
     "data": {
      "text/plain": [
       "{'a': 'apple', 'b': 'ball', 'A': 'apple'}"
      ]
     },
     "execution_count": 11,
     "metadata": {},
     "output_type": "execute_result"
    }
   ],
   "source": [
    "d ={'a':'apple',\"b\":'ball','A':'apple'}\n",
    "d['a']='apple'\n",
    "d"
   ]
  },
  {
   "cell_type": "code",
   "execution_count": 12,
   "id": "d691c323",
   "metadata": {},
   "outputs": [
    {
     "name": "stdout",
     "output_type": "stream",
     "text": [
      "enter the no = 5\n",
      "enter name:hari\n",
      "enter phone:9806956765\n",
      "enter name:hari\n",
      "enter phone:9807685522\n",
      "enter name:shyam\n",
      "enter phone:816484152\n",
      "enter name:gita\n",
      "enter phone:664654433\n",
      "enter name:ja\n",
      "enter phone:786546\n",
      "{'hari': '9807685522', 'shyam': '816484152', 'gita': '664654433', 'ja': '786546'}\n"
     ]
    }
   ],
   "source": [
    "d ={}\n",
    "n =int(input(\"enter the no = \"))\n",
    "for i in range(n):\n",
    "    name = input(\"enter name:\")\n",
    "    phone = input(\"enter phone:\")\n",
    "    d[name]=phone\n",
    "print(d)"
   ]
  },
  {
   "cell_type": "code",
   "execution_count": 13,
   "id": "c29f0e38",
   "metadata": {},
   "outputs": [
    {
     "name": "stdout",
     "output_type": "stream",
     "text": [
      "Ram\n",
      "Hari\n"
     ]
    }
   ],
   "source": [
    "d={'Ram':'980756745', 'Hari':'980234523'}\n",
    "for i in d:\n",
    "    print(i)"
   ]
  },
  {
   "cell_type": "code",
   "execution_count": 14,
   "id": "df81584b",
   "metadata": {},
   "outputs": [
    {
     "name": "stdout",
     "output_type": "stream",
     "text": [
      "980756745\n",
      "980234523\n"
     ]
    }
   ],
   "source": [
    "d={'Ram':'980756745', 'Hari':'980234523'}\n",
    "for i in d.values():\n",
    "    print(i)"
   ]
  },
  {
   "cell_type": "code",
   "execution_count": 15,
   "id": "316b91d2",
   "metadata": {},
   "outputs": [
    {
     "name": "stdout",
     "output_type": "stream",
     "text": [
      "('Ram', '980756745')\n",
      "('Hari', '980234523')\n"
     ]
    }
   ],
   "source": [
    "d={'Ram':'980756745', 'Hari':'980234523'}\n",
    "for i in d.items():\n",
    "    print(i)"
   ]
  },
  {
   "cell_type": "code",
   "execution_count": 22,
   "id": "3a9b0b29",
   "metadata": {},
   "outputs": [
    {
     "name": "stdout",
     "output_type": "stream",
     "text": [
      "[('Ram', '980756745'), ('Hari', '980234523')]\n"
     ]
    }
   ],
   "source": [
    "# converting from dictinry to list\n",
    "l=[]\n",
    "d = {'Ram':'980756745', 'Hari':'980234523'}\n",
    "for i in d.items():\n",
    "    l.append(i)\n",
    "print(l)"
   ]
  },
  {
   "cell_type": "code",
   "execution_count": 24,
   "id": "9b042050",
   "metadata": {},
   "outputs": [
    {
     "data": {
      "text/plain": [
       "{'Ram': '980756745', 'Hari': '980234523'}"
      ]
     },
     "execution_count": 24,
     "metadata": {},
     "output_type": "execute_result"
    }
   ],
   "source": [
    "dict(l)"
   ]
  },
  {
   "cell_type": "code",
   "execution_count": 35,
   "id": "1f257b5c",
   "metadata": {},
   "outputs": [
    {
     "data": {
      "text/plain": [
       "{'Shyam': '980878765'}"
      ]
     },
     "execution_count": 35,
     "metadata": {},
     "output_type": "execute_result"
    }
   ],
   "source": [
    "# del\n",
    "d = {'Ram': '9808778765', 'Shyam': '980878765'}\n",
    "del d['Ram']\n",
    "d"
   ]
  },
  {
   "cell_type": "code",
   "execution_count": 38,
   "id": "652a0318",
   "metadata": {},
   "outputs": [
    {
     "name": "stdout",
     "output_type": "stream",
     "text": [
      "9808778765\n",
      "{'Shyam': '980878765'}\n"
     ]
    }
   ],
   "source": [
    "#  pop()\n",
    "d = {'Ram': '9808778765', 'Shyam': '980878765'}\n",
    "c = d.pop('Ram')\n",
    "print(c)\n",
    "print(d)"
   ]
  },
  {
   "cell_type": "code",
   "execution_count": 39,
   "id": "2e10bbea",
   "metadata": {},
   "outputs": [
    {
     "data": {
      "text/plain": [
       "{'Ram': ['9805745675', '980234123'], 'shyam': ['98056342', '9807545674']}"
      ]
     },
     "execution_count": 39,
     "metadata": {},
     "output_type": "execute_result"
    }
   ],
   "source": [
    "# List inside dictionary\n",
    "d = {'Ram':['9805745675','980234123'],'shyam':['98056342','9807545674']}\n",
    "d"
   ]
  },
  {
   "cell_type": "code",
   "execution_count": 40,
   "id": "871fe08b",
   "metadata": {},
   "outputs": [
    {
     "name": "stdout",
     "output_type": "stream",
     "text": [
      "enter no 3\n",
      "enter namehari\n",
      "enter ncell no98075\n",
      "enter ntc no98570\n",
      "enter namegauri\n",
      "enter ncell no9817447\n",
      "enter ntc no98476\n",
      "enter namebaniya\n",
      "enter ncell no982143\n",
      "enter ntc no98570\n",
      "{'hari': [98075, 98570], 'gauri': [9817447, 98476], 'baniya': [982143, 98570]}\n"
     ]
    }
   ],
   "source": [
    "d ={}\n",
    "n = int(input(\"enter no \"))\n",
    "for i in range(n):\n",
    "    name =input(\"enter name\")\n",
    "    ncell_phone =int(input(\"enter ncell no\"))\n",
    "    ntc_phone =int(input(\"enter ntc no\"))\n",
    "    d[name]=[ncell_phone,ntc_phone]\n",
    "print(d)"
   ]
  },
  {
   "cell_type": "code",
   "execution_count": 41,
   "id": "db214115",
   "metadata": {},
   "outputs": [
    {
     "data": {
      "text/plain": [
       "{'Ram': ['9878778654', '9808778765'],\n",
       " 'Shyam': ['9867667634', '9808667640'],\n",
       " 'Hari': ['98069980756785']}"
      ]
     },
     "execution_count": 41,
     "metadata": {},
     "output_type": "execute_result"
    }
   ],
   "source": [
    "# to add in dictionary\n",
    "d = {'Ram': ['9878778654', '9808778765'], 'Shyam': ['9867667634', '9808667640']}\n",
    "d['Hari'] =['98069''980756785']\n",
    "d"
   ]
  },
  {
   "cell_type": "code",
   "execution_count": 43,
   "id": "51051c33",
   "metadata": {},
   "outputs": [
    {
     "data": {
      "text/plain": [
       "{'Ram': ['9878778654', '9808778765'],\n",
       " 'Shyam': ['9867667634', '9808667640', '9807567456']}"
      ]
     },
     "execution_count": 43,
     "metadata": {},
     "output_type": "execute_result"
    }
   ],
   "source": [
    "# To add new number in dictionary \n",
    "d = {'Ram': ['9878778654', '9808778765'], 'Shyam': ['9867667634', '9808667640']}\n",
    "d['Shyam'].append('9807567456')\n",
    "d"
   ]
  },
  {
   "cell_type": "code",
   "execution_count": 45,
   "id": "59eb861c",
   "metadata": {},
   "outputs": [
    {
     "data": {
      "text/plain": [
       "{'name': ['ram', 'shyam', 'Hari'],\n",
       " 'age': ['22', '12', '67'],\n",
       " 'add': ['kotahimai', 'samari', 'mayaevi']}"
      ]
     },
     "execution_count": 45,
     "metadata": {},
     "output_type": "execute_result"
    }
   ],
   "source": [
    "# list inside dictionary\n",
    "d={'name':['ram','shyam','Hari'],'age':['22','12','67'],'add':['kotahimai','samari','mayaevi']}\n",
    "d"
   ]
  },
  {
   "cell_type": "code",
   "execution_count": 47,
   "id": "ba310b49",
   "metadata": {},
   "outputs": [
    {
     "data": {
      "text/plain": [
       "{'name': ['Ram', 'Shyam', 'Hari', 'laxman'],\n",
       " 'age': [64, 89, 43, '22'],\n",
       " 'add': ['Kathmandu', 'Bhaktapur', 'Lalitpur', '54']}"
      ]
     },
     "execution_count": 47,
     "metadata": {},
     "output_type": "execute_result"
    }
   ],
   "source": [
    "d = {'name':['Ram','Shyam','Hari'],'age':[64,89,43],'add':['Kathmandu','Bhaktapur','Lalitpur']}\n",
    "d['name'].append('laxman')\n",
    "d['age'].append('22')\n",
    "d['add'].append('54')\n",
    "d"
   ]
  },
  {
   "cell_type": "code",
   "execution_count": 48,
   "id": "d44555ff",
   "metadata": {},
   "outputs": [
    {
     "data": {
      "text/plain": [
       "[{'name': 'Ram', 'age': 45, 'add': 'Kathmandu'},\n",
       " {'name': 'Rama', 'age': 41, 'add': 'Bara'},\n",
       " {'name': 'Shyam', 'age': 48, 'add': 'Bara'}]"
      ]
     },
     "execution_count": 48,
     "metadata": {},
     "output_type": "execute_result"
    }
   ],
   "source": [
    "# dict inside list\n",
    "l = [{'name':'Ram','age':45,'add':'Kathmandu'},\n",
    "    {'name':'Rama','age':41,'add':'Bara'},\n",
    "    {'name':'Shyam','age':48,'add':'Bara'}]\n",
    "l"
   ]
  },
  {
   "cell_type": "code",
   "execution_count": 49,
   "id": "2f242d7e",
   "metadata": {},
   "outputs": [
    {
     "name": "stdout",
     "output_type": "stream",
     "text": [
      "Enter n = 3\n",
      "Enter name = laxman\n",
      "Enter age = 22\n",
      "Enter add = kot\n",
      "Enter name = babi\n",
      "Enter age = 34\n",
      "Enter add = sama\n",
      "Enter name = hari\n",
      "Enter age = 56\n",
      "Enter add = mar\n"
     ]
    },
    {
     "data": {
      "text/plain": [
       "[{'name': 'laxman', 'age': 22, 'add': 'kot'},\n",
       " {'name': 'babi', 'age': 34, 'add': 'sama'},\n",
       " {'name': 'hari', 'age': 56, 'add': 'mar'}]"
      ]
     },
     "execution_count": 49,
     "metadata": {},
     "output_type": "execute_result"
    }
   ],
   "source": [
    "l = []\n",
    "n = int(input(\"Enter n = \"))\n",
    "for i in range(n):\n",
    "    name = input(\"Enter name = \")\n",
    "    age = int(input(\"Enter age = \"))\n",
    "    add = input(\"Enter add = \")\n",
    "    d = {'name':name,'age':age,'add':add}\n",
    "    l.append(d)\n",
    "    \n",
    "l"
   ]
  },
  {
   "cell_type": "code",
   "execution_count": 50,
   "id": "905e97bf",
   "metadata": {},
   "outputs": [],
   "source": [
    "l[0]['name'] = \"Rama\""
   ]
  },
  {
   "cell_type": "code",
   "execution_count": 51,
   "id": "8926829b",
   "metadata": {},
   "outputs": [
    {
     "data": {
      "text/plain": [
       "[{'name': 'babi', 'age': 34, 'add': 'sama'},\n",
       " {'name': 'hari', 'age': 56, 'add': 'mar'}]"
      ]
     },
     "execution_count": 51,
     "metadata": {},
     "output_type": "execute_result"
    }
   ],
   "source": [
    "del l[0]\n",
    "l"
   ]
  },
  {
   "cell_type": "code",
   "execution_count": 52,
   "id": "2c90ad66",
   "metadata": {},
   "outputs": [
    {
     "data": {
      "text/plain": [
       "{1: {'name': 'Ram', 'grade': 'A'},\n",
       " 2: {'name': 'Hari', 'grade': 'B'},\n",
       " 3: {'name': 'Sita', 'grade': 'C'}}"
      ]
     },
     "execution_count": 52,
     "metadata": {},
     "output_type": "execute_result"
    }
   ],
   "source": [
    "# dict inside dict\n",
    "d = {1:{\"name\":\"Ram\",\"grade\":\"A\"},\n",
    "    2:{\"name\":\"Hari\",\"grade\":\"B\"},\n",
    "    3:{\"name\":\"Sita\",\"grade\":\"C\"}}\n",
    "d"
   ]
  },
  {
   "cell_type": "code",
   "execution_count": 53,
   "id": "b8dd504a",
   "metadata": {},
   "outputs": [
    {
     "data": {
      "text/plain": [
       "{1: {'name': 'Ram', 'grade': 'A'}, 2: {'name': 'Hari', 'grade': 'B'}}"
      ]
     },
     "execution_count": 53,
     "metadata": {},
     "output_type": "execute_result"
    }
   ],
   "source": [
    "d = {}\n",
    "d[1]={\"name\":\"Ram\",\"grade\":\"A\"}\n",
    "d[2] = {\"name\":\"Hari\",\"grade\":\"B\"}\n",
    "d"
   ]
  },
  {
   "cell_type": "code",
   "execution_count": 54,
   "id": "cd69d980",
   "metadata": {},
   "outputs": [
    {
     "data": {
      "text/plain": [
       "'Ram'"
      ]
     },
     "execution_count": 54,
     "metadata": {},
     "output_type": "execute_result"
    }
   ],
   "source": [
    "d = {1:{\"name\":\"Ram\",\"grade\":\"A\"},\n",
    "    2:{\"name\":\"Hari\",\"grade\":\"B\"},\n",
    "    3:{\"name\":\"Sita\",\"grade\":\"C\"}}\n",
    "d[1]['name']"
   ]
  },
  {
   "cell_type": "code",
   "execution_count": null,
   "id": "b2a95fe9",
   "metadata": {},
   "outputs": [],
   "source": []
  }
 ],
 "metadata": {
  "kernelspec": {
   "display_name": "Python 3 (ipykernel)",
   "language": "python",
   "name": "python3"
  },
  "language_info": {
   "codemirror_mode": {
    "name": "ipython",
    "version": 3
   },
   "file_extension": ".py",
   "mimetype": "text/x-python",
   "name": "python",
   "nbconvert_exporter": "python",
   "pygments_lexer": "ipython3",
   "version": "3.9.12"
  }
 },
 "nbformat": 4,
 "nbformat_minor": 5
}
