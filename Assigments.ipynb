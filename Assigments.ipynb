{
 "cells": [
  {
   "cell_type": "code",
   "execution_count": 5,
   "id": "a19ffbe0",
   "metadata": {},
   "outputs": [
    {
     "name": "stdout",
     "output_type": "stream",
     "text": [
      "enter n = 2\n",
      "enter name apple\n",
      "enter price = 20\n",
      "enter quantity = 2\n",
      "apple\t20\t2\t40\n",
      "\n",
      "all total amt is:  40\n",
      "enter name baanna\n",
      "enter price = 10\n",
      "enter quantity = 30\n",
      "apple\t20\t2\t40\n",
      "baanna\t10\t30\t300\n",
      "\n",
      "all total amt is:  340\n"
     ]
    }
   ],
   "source": [
    "# write a programj to crate billing system\n",
    "# name\n",
    "# price\n",
    "# quantity\n",
    "# total\n",
    "\n",
    "#  all_total\n",
    "# write a create a result management system\n",
    "# name\n",
    "# subjects-> physics,chemistry\n",
    "# total\n",
    "# percentage\n",
    "# grade\n",
    "\n",
    "all_total = 0\n",
    "bill = str()\n",
    "n = int(input(\"enter n = \"))\n",
    "for i in range(n):\n",
    "    name = input(\"enter name \")\n",
    "    price = int(input(\"enter price = \"))\n",
    "    quantity = int(input(\"enter quantity = \"))\n",
    "    total = price*quantity\n",
    "    all_total = all_total+total\n",
    "    bill = bill+name+\"\\t\"+str(price)+\"\\t\"+str(quantity)+\"\\t\"+str(total)+\"\\n\"\n",
    "    print(bill)\n",
    "    print(\"all total amt is: \", all_total)\n",
    "    "
   ]
  },
  {
   "cell_type": "code",
   "execution_count": null,
   "id": "b8d9c034",
   "metadata": {},
   "outputs": [
    {
     "name": "stdout",
     "output_type": "stream",
     "text": [
      "enter n = 2\n",
      "enter name s\n"
     ]
    }
   ],
   "source": [
    "result = str()\n",
    "n = int(input(\"enter n = \"))\n",
    "for i in range(n):\n",
    "        name = input(\"enter name \")\n",
    "        phy = int(input(\"enter phy mark \"))\n",
    "        chem = int(input(\"enter mark \"))\n",
    "        math = int(input(\"enter mark \"))\n",
    "        bio = int(input(\"enter mark \"))\n",
    "        english = int(input(\"enter mark \"))\n",
    "        total = phy+chem+math+bio+english\n",
    "        per = total/5\n",
    "        if per>=80:\n",
    "            Grade = \"A\"\n",
    "        elif per>=60:\n",
    "            Grade = \"B\"\n",
    "        elif per>=45:\n",
    "            Grade = \"C\"\n",
    "        else:\n",
    "            Grade = \"F\"\n",
    "result = result+name+\"\\t\"+str(phy)+\"\\t\"+str(chem)+\"\\t\"+str(math)+\"\\t\"+str(bio)+\"\\t\"+str(english)+\"\\t\"+str(total)+\"\\t\"+str(per)+\"\\t\"+Grade+\"\\t\" +\"\\n\"\n",
    "print('name\\tphy\\tchem\\tmath\\tbio\\tenglish\\ttotal\\tper\\tGrade')\n",
    "print(result)\n"
   ]
  },
  {
   "cell_type": "code",
   "execution_count": 2,
   "id": "2588c684",
   "metadata": {},
   "outputs": [
    {
     "name": "stdout",
     "output_type": "stream",
     "text": [
      "enter a no = 6\n",
      "6 is com\n"
     ]
    }
   ],
   "source": [
    "# wap to detect the given no is prime or composite\n",
    "# prime = 1,3,5,7,11,13,17,19,23\n",
    "# composite = 2,4,6,8,10,12\n",
    "\n",
    "n = int(input(\"enter a no = \"))\n",
    "for i in range(2,n):\n",
    "    if n%2 ==0:\n",
    "        print(n,\"is com\")\n",
    "        break\n",
    "    else:\n",
    "        print(n,'is p')\n"
   ]
  },
  {
   "cell_type": "code",
   "execution_count": 2,
   "id": "ea39750e",
   "metadata": {},
   "outputs": [
    {
     "name": "stdout",
     "output_type": "stream",
     "text": [
      "Enter n = 2\n",
      "enter name = f\n",
      "Enter price = 10\n",
      "Enter quantity = 20\n",
      "enter name = h\n",
      "Enter price = 30\n",
      "Enter quantity = 10\n",
      "name\tprice\tquantity\ttotal\tall_total\n",
      "f\t10\t20\t200\t200\n",
      "h\t30\t10\t300\t500\n",
      "\n"
     ]
    }
   ],
   "source": [
    "bill =str()\n",
    "all_total = 0\n",
    "n = int(input(\"Enter n = \"))\n",
    "for i in range(n):\n",
    "    name = input(\"enter name = \")\n",
    "    price = int(input(\"Enter price = \"))\n",
    "    quantity = int(input(\"Enter quantity = \"))\n",
    "    total = price* quantity\n",
    "    all_total = all_total+total\n",
    "    bill = bill+name+\"\\t\"+str(price)+\"\\t\"+str(quantity)+\"\\t\"+str(total)+\"\\t\"+str(all_total)+\"\\n\"\n",
    "print(\"name\\tprice\\tquantity\\ttotal\\tall_total\")\n",
    "print(bill)"
   ]
  },
  {
   "cell_type": "code",
   "execution_count": null,
   "id": "6996e689",
   "metadata": {},
   "outputs": [],
   "source": []
  }
 ],
 "metadata": {
  "kernelspec": {
   "display_name": "Python 3 (ipykernel)",
   "language": "python",
   "name": "python3"
  },
  "language_info": {
   "codemirror_mode": {
    "name": "ipython",
    "version": 3
   },
   "file_extension": ".py",
   "mimetype": "text/x-python",
   "name": "python",
   "nbconvert_exporter": "python",
   "pygments_lexer": "ipython3",
   "version": "3.9.12"
  }
 },
 "nbformat": 4,
 "nbformat_minor": 5
}
