{
 "cells": [
  {
   "cell_type": "code",
   "execution_count": null,
   "id": "2fa7b38e",
   "metadata": {},
   "outputs": [],
   "source": [
    "# b is inherited from a\n",
    "class A:\n",
    "    pass\n",
    "class B(A):\n",
    "    pass\n",
    "\n",
    "obj =B()\n",
    "# obj =A()   a class not not inherited b"
   ]
  },
  {
   "cell_type": "code",
   "execution_count": 3,
   "id": "bd170dc2",
   "metadata": {},
   "outputs": [
    {
     "name": "stdout",
     "output_type": "stream",
     "text": [
      "enter name = laxman\n",
      "enter age =22\n",
      "Hello I am laxman.I am 22\n"
     ]
    }
   ],
   "source": [
    "class A:\n",
    "    def __init__(self):\n",
    "        self.name =input(\"enter name = \")\n",
    "        self.age = int(input(\"enter age =\"))\n",
    "        \n",
    "class B(A):\n",
    "    def info(self):\n",
    "        print(f\"Hello I am {self.name}.I am {self.age}\")\n",
    "obj =B()\n",
    "obj.info()"
   ]
  },
  {
   "cell_type": "code",
   "execution_count": 10,
   "id": "54dfd269",
   "metadata": {},
   "outputs": [
    {
     "name": "stdout",
     "output_type": "stream",
     "text": [
      "enter name = laxman\n",
      "enter age =11\n",
      "enter name = nk\n",
      "enter age =2\n",
      "Hello I am laxman.I am 11\n",
      "('laxman', 11)\n"
     ]
    }
   ],
   "source": [
    "class A:\n",
    "    def __init__(self):\n",
    "        self.name =input(\"enter name = \")               # public memeber\n",
    "        self.age = int(input(\"enter age =\"))\n",
    "        \n",
    "    def infos(self):\n",
    "            return self.name,self.age\n",
    "        \n",
    "class B(A):\n",
    "    def info(self):\n",
    "        print(f\"Hello I am {self.name}.I am {self.age}\")\n",
    "        \n",
    "obj =B()\n",
    "obj1 =A()\n",
    "obj.info()\n",
    "print(obj.infos())"
   ]
  },
  {
   "cell_type": "code",
   "execution_count": 2,
   "id": "2d8f4a27",
   "metadata": {},
   "outputs": [
    {
     "name": "stdout",
     "output_type": "stream",
     "text": [
      "Enter name =laxman\n",
      "enter age =23\n",
      "Hello I am laxman.I am 23\n",
      "('laxman', 23)\n"
     ]
    }
   ],
   "source": [
    "class A:\n",
    "    def __init__(self,name,age):\n",
    "        self.name =name              # public memeber\n",
    "        self.age = age\n",
    "        \n",
    "    def infos(self):\n",
    "            return self.name,self.age\n",
    "        \n",
    "class B(A):\n",
    "    def info(self):\n",
    "        print(f\"Hello I am {self.name}.I am {self.age}\")\n",
    "        \n",
    "        \n",
    "name =input(\"Enter name =\")\n",
    "age = int(input(\"enter age =\"))\n",
    "\n",
    "obj =B(name,age)\n",
    "obj.info()\n",
    "print(obj.infos())"
   ]
  },
  {
   "cell_type": "code",
   "execution_count": 15,
   "id": "868d1ac5",
   "metadata": {},
   "outputs": [
    {
     "name": "stdout",
     "output_type": "stream",
     "text": [
      "Enter name =kj\n",
      "enter age =3\n",
      "enter add =df\n",
      "Hello I am kj.I am 3\n",
      "('kj', 3)\n"
     ]
    }
   ],
   "source": [
    "class A:\n",
    "    def __init__(self,name,age):\n",
    "        self.name =name              # public memeber\n",
    "        self.age = age\n",
    "        \n",
    "    def infos(self):\n",
    "            return self.name,self.age\n",
    "        \n",
    "class B(A):\n",
    "    def __init__(self,name,age,add):\n",
    "        self.add = add\n",
    "        A.__init__(self,name,age)\n",
    "        \n",
    "    def info(self):\n",
    "        print(f\"Hello I am {self.name}.I am {self.age}\")\n",
    "        \n",
    "        \n",
    "name =input(\"Enter name =\")\n",
    "age = int(input(\"enter age =\"))\n",
    "add =input(\"enter add =\")\n",
    "\n",
    "obj =B(name,age,add)\n",
    "obj.info()\n",
    "print(obj.infos())\n"
   ]
  },
  {
   "cell_type": "markdown",
   "id": "3bdc8d05",
   "metadata": {},
   "source": [
    "# multillevel inheritance\n",
    "class A:\n",
    "    pass\n",
    "class B(A):       \n",
    "    pass\n",
    "class C(B):\n",
    "    pass\n",
    "obj =c()"
   ]
  },
  {
   "cell_type": "code",
   "execution_count": null,
   "id": "e70256d6",
   "metadata": {},
   "outputs": [],
   "source": []
  },
  {
   "cell_type": "code",
   "execution_count": null,
   "id": "3a13cecf",
   "metadata": {},
   "outputs": [],
   "source": [
    "\n",
    "class A:\n",
    "    pass\n",
    "class B:\n",
    "    pass\n",
    "class C(B):\n",
    "    pass\n",
    "obj =c()"
   ]
  },
  {
   "cell_type": "code",
   "execution_count": null,
   "id": "b023616a",
   "metadata": {},
   "outputs": [],
   "source": [
    "class A:\n",
    "    pass\n",
    "\n",
    "class B:\n",
    "    pass\n",
    "\n",
    "class C(A,B):\n",
    "    pass\n",
    "\n",
    "obj =C()"
   ]
  },
  {
   "cell_type": "code",
   "execution_count": 22,
   "id": "af4bf15b",
   "metadata": {},
   "outputs": [
    {
     "name": "stdout",
     "output_type": "stream",
     "text": [
      "Enter name =sd\n",
      "enter age =22\n",
      "enter add =gf\n",
      "Hello I am sd.I am 22\n",
      "sd\n"
     ]
    }
   ],
   "source": [
    "class A:\n",
    "    def __init__(self,name):\n",
    "        self.name =name              # public memeber\n",
    "        \n",
    "    def infos(self):\n",
    "            return self.name\n",
    "        \n",
    "class B(A):\n",
    "    def __init__(self,name,age):\n",
    "        self.age   =age\n",
    "        A.__init__(self,name)\n",
    "        \n",
    "class C(B):\n",
    "    def __init__(self,name,age,add):\n",
    "        self.add = add\n",
    "        B.__init__(self,name,age)\n",
    "        \n",
    "    def info(self):\n",
    "        print(f\"Hello I am {self.name}.I am {self.age}\")\n",
    "        \n",
    "        \n",
    "name =input(\"Enter name =\")\n",
    "age = int(input(\"enter age =\"))\n",
    "add =input(\"enter add =\")\n",
    "\n",
    "obj =C(name,age,add)\n",
    "obj.info()\n",
    "print(obj.infos())\n"
   ]
  },
  {
   "cell_type": "code",
   "execution_count": null,
   "id": "195ca736",
   "metadata": {},
   "outputs": [],
   "source": [
    "4 nov day19"
   ]
  },
  {
   "cell_type": "code",
   "execution_count": null,
   "id": "f39496be",
   "metadata": {},
   "outputs": [],
   "source": [
    "multi class"
   ]
  },
  {
   "cell_type": "code",
   "execution_count": 1,
   "id": "0b4b5734",
   "metadata": {},
   "outputs": [
    {
     "name": "stdout",
     "output_type": "stream",
     "text": [
      "Enter add =kg\n",
      "Enter name=kkdk\n",
      "Enter age =12\n",
      "Hello I am kkdk. Iam 12\n"
     ]
    },
    {
     "ename": "AttributeError",
     "evalue": "'C' object has no attribute 'infos'",
     "output_type": "error",
     "traceback": [
      "\u001b[1;31m---------------------------------------------------------------------------\u001b[0m",
      "\u001b[1;31mAttributeError\u001b[0m                            Traceback (most recent call last)",
      "Input \u001b[1;32mIn [1]\u001b[0m, in \u001b[0;36m<cell line: 23>\u001b[1;34m()\u001b[0m\n\u001b[0;32m     21\u001b[0m obj \u001b[38;5;241m=\u001b[39mC()\n\u001b[0;32m     22\u001b[0m obj\u001b[38;5;241m.\u001b[39minfo()\n\u001b[1;32m---> 23\u001b[0m \u001b[38;5;28mprint\u001b[39m(\u001b[43mobj\u001b[49m\u001b[38;5;241;43m.\u001b[39;49m\u001b[43minfos\u001b[49m())\n",
      "\u001b[1;31mAttributeError\u001b[0m: 'C' object has no attribute 'infos'"
     ]
    }
   ],
   "source": [
    "class A:\n",
    "    def __init__(self):\n",
    "        self.name =input(\"Enter name=\")\n",
    "        \n",
    "        def infos(self):\n",
    "            return self.name\n",
    "        \n",
    "class B:\n",
    "    def __init__(self):\n",
    "        self.age =input(\"Enter age =\")\n",
    "                \n",
    "class C(A,B):\n",
    "    def __init__(self):\n",
    "        self.add =input(\"Enter add =\")\n",
    "        A.__init__(self)\n",
    "        B.__init__(self)\n",
    "                \n",
    "    def info(self):\n",
    "        print(f\"Hello I am {self.name}. Iam {self.age}\")\n",
    "                \n",
    "obj =C()\n",
    "obj.info()\n",
    "print(obj.infos())\n",
    "            \n",
    "                "
   ]
  },
  {
   "cell_type": "markdown",
   "id": "5c12c1ee",
   "metadata": {},
   "source": [
    "#### public member\n",
    "class Info:\n",
    "    def __init__(self,name,age,add):\n",
    "        self.name= name\n",
    "        self.age = age\n",
    "        self.add = add\n",
    "        \n",
    "obj= Info(\"Ram\",34,\"kathmandu\")\n",
    "print(obj.name,obj.age,obj.add)"
   ]
  },
  {
   "cell_type": "code",
   "execution_count": 11,
   "id": "9621fec9",
   "metadata": {},
   "outputs": [
    {
     "name": "stdout",
     "output_type": "stream",
     "text": [
      "Ram 34 kathmandu\n"
     ]
    }
   ],
   "source": [
    "#protected member(_)\n",
    "class Info:\n",
    "    def __init__(self,name,age,add):\n",
    "        self._name= name\n",
    "        self._age = age\n",
    "        self._add = add\n",
    "        \n",
    "obj= Info(\"Ram\",34,\"kathmandu\")\n",
    "print(obj._name,obj._age,obj._add)"
   ]
  },
  {
   "cell_type": "code",
   "execution_count": 12,
   "id": "69272f94",
   "metadata": {},
   "outputs": [
    {
     "ename": "AttributeError",
     "evalue": "'Info' object has no attribute '__name'",
     "output_type": "error",
     "traceback": [
      "\u001b[1;31m---------------------------------------------------------------------------\u001b[0m",
      "\u001b[1;31mAttributeError\u001b[0m                            Traceback (most recent call last)",
      "Input \u001b[1;32mIn [12]\u001b[0m, in \u001b[0;36m<cell line: 9>\u001b[1;34m()\u001b[0m\n\u001b[0;32m      6\u001b[0m         \u001b[38;5;28mself\u001b[39m\u001b[38;5;241m.\u001b[39m__add \u001b[38;5;241m=\u001b[39m add\n\u001b[0;32m      8\u001b[0m obj\u001b[38;5;241m=\u001b[39m Info(\u001b[38;5;124m\"\u001b[39m\u001b[38;5;124mRam\u001b[39m\u001b[38;5;124m\"\u001b[39m,\u001b[38;5;241m34\u001b[39m,\u001b[38;5;124m\"\u001b[39m\u001b[38;5;124mkathmandu\u001b[39m\u001b[38;5;124m\"\u001b[39m)\n\u001b[1;32m----> 9\u001b[0m \u001b[38;5;28mprint\u001b[39m(\u001b[43mobj\u001b[49m\u001b[38;5;241;43m.\u001b[39;49m\u001b[43m__name\u001b[49m,obj\u001b[38;5;241m.\u001b[39m__age,obj\u001b[38;5;241m.\u001b[39m__add)\n",
      "\u001b[1;31mAttributeError\u001b[0m: 'Info' object has no attribute '__name'"
     ]
    }
   ],
   "source": [
    "#private member(__)\n",
    "class Info:\n",
    "    def __init__(self,name,age,add):\n",
    "        self.__name= name\n",
    "        self.__age = age\n",
    "        self.__add = add\n",
    "        \n",
    "obj= Info(\"Ram\",34,\"kathmandu\")\n",
    "print(obj.__name,obj.__age,obj.__add)"
   ]
  },
  {
   "cell_type": "code",
   "execution_count": 14,
   "id": "4adb7ffb",
   "metadata": {},
   "outputs": [
    {
     "name": "stdout",
     "output_type": "stream",
     "text": [
      "Ram 34 kathmandu\n"
     ]
    }
   ],
   "source": [
    "#private member(__)     we can make private ti public by use(_Info)\n",
    "class Info:\n",
    "    def __init__(self,name,age,add):\n",
    "        self.__name= name\n",
    "        self.__age = age\n",
    "        self.__add = add\n",
    "        \n",
    "obj= Info(\"Ram\",34,\"kathmandu\")\n",
    "print(obj._Info__name,obj._Info__age,obj._Info__add)"
   ]
  },
  {
   "cell_type": "code",
   "execution_count": 27,
   "id": "9aca7799",
   "metadata": {},
   "outputs": [
    {
     "name": "stdout",
     "output_type": "stream",
     "text": [
      "Enter name =laxm\n",
      "enter age =23\n",
      "enter add =kg\n"
     ]
    },
    {
     "ename": "TypeError",
     "evalue": "__init__() takes 3 positional arguments but 4 were given",
     "output_type": "error",
     "traceback": [
      "\u001b[1;31m---------------------------------------------------------------------------\u001b[0m",
      "\u001b[1;31mTypeError\u001b[0m                                 Traceback (most recent call last)",
      "Input \u001b[1;32mIn [27]\u001b[0m, in \u001b[0;36m<cell line: 22>\u001b[1;34m()\u001b[0m\n\u001b[0;32m     19\u001b[0m age \u001b[38;5;241m=\u001b[39m \u001b[38;5;28mint\u001b[39m(\u001b[38;5;28minput\u001b[39m(\u001b[38;5;124m\"\u001b[39m\u001b[38;5;124menter age =\u001b[39m\u001b[38;5;124m\"\u001b[39m))\n\u001b[0;32m     20\u001b[0m add \u001b[38;5;241m=\u001b[39m\u001b[38;5;28minput\u001b[39m(\u001b[38;5;124m\"\u001b[39m\u001b[38;5;124menter add =\u001b[39m\u001b[38;5;124m\"\u001b[39m)\n\u001b[1;32m---> 22\u001b[0m obj \u001b[38;5;241m=\u001b[39m\u001b[43mB\u001b[49m\u001b[43m(\u001b[49m\u001b[43mname\u001b[49m\u001b[43m,\u001b[49m\u001b[43mage\u001b[49m\u001b[43m,\u001b[49m\u001b[43madd\u001b[49m\u001b[43m)\u001b[49m\n\u001b[0;32m     23\u001b[0m obj\u001b[38;5;241m.\u001b[39minfo()\n\u001b[0;32m     24\u001b[0m \u001b[38;5;28mprint\u001b[39m(obj\u001b[38;5;241m.\u001b[39minfos())\n",
      "\u001b[1;31mTypeError\u001b[0m: __init__() takes 3 positional arguments but 4 were given"
     ]
    }
   ],
   "source": [
    "class A:\n",
    "    def __init__(self,name,age):\n",
    "        self.__name =name              # privte memeber\n",
    "        self._age = age                  #protected member\n",
    "        \n",
    "    def infos(self):\n",
    "            return self.__name,self._age\n",
    "        \n",
    "class B(A):\n",
    "    def info(self,name,age,add):\n",
    "        self.add =add\n",
    "        A.__init__(self,name,age)\n",
    "        \n",
    "    def info(self):\n",
    "        print(f\"Hello I am {self.add}.I am {self._age}\")\n",
    "        \n",
    "        \n",
    "name =input(\"Enter name =\")\n",
    "age = int(input(\"enter age =\"))\n",
    "add =input(\"enter add =\")\n",
    "\n",
    "obj =B(name,age,add)\n",
    "obj.info()\n",
    "print(obj.infos())\n"
   ]
  },
  {
   "cell_type": "code",
   "execution_count": null,
   "id": "c4ca3a2c",
   "metadata": {},
   "outputs": [],
   "source": [
    "a\n"
   ]
  }
 ],
 "metadata": {
  "kernelspec": {
   "display_name": "Python 3 (ipykernel)",
   "language": "python",
   "name": "python3"
  },
  "language_info": {
   "codemirror_mode": {
    "name": "ipython",
    "version": 3
   },
   "file_extension": ".py",
   "mimetype": "text/x-python",
   "name": "python",
   "nbconvert_exporter": "python",
   "pygments_lexer": "ipython3",
   "version": "3.9.12"
  }
 },
 "nbformat": 4,
 "nbformat_minor": 5
}
