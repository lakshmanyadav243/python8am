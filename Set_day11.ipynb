{
 "cells": [
  {
   "cell_type": "code",
   "execution_count": null,
   "id": "18d8fd7e",
   "metadata": {},
   "outputs": [],
   "source": [
    "# Set\n",
    "# -No indexing\n",
    "# -Unordered\n",
    "# -Multiple but no duplicate data\n",
    "# -Mutable data (changeable)"
   ]
  },
  {
   "cell_type": "code",
   "execution_count": 1,
   "id": "99d4d588",
   "metadata": {},
   "outputs": [
    {
     "name": "stdout",
     "output_type": "stream",
     "text": [
      "<class 'set'>\n"
     ]
    }
   ],
   "source": [
    "s ={1,2,3}\n",
    "s = set()\n",
    "print(type(s))"
   ]
  },
  {
   "cell_type": "code",
   "execution_count": 2,
   "id": "2cb0a5f6",
   "metadata": {},
   "outputs": [
    {
     "name": "stdout",
     "output_type": "stream",
     "text": [
      "{34, 22, 23, 56, 89, 11, 14}\n"
     ]
    },
    {
     "data": {
      "text/plain": [
       "{11, 14, 22, 23, 34, 56, 89}"
      ]
     },
     "execution_count": 2,
     "metadata": {},
     "output_type": "execute_result"
    }
   ],
   "source": [
    "s ={34,56,22,89,14,11,23}\n",
    "print(s)\n",
    "s"
   ]
  },
  {
   "cell_type": "code",
   "execution_count": 3,
   "id": "04dd7e7c",
   "metadata": {},
   "outputs": [
    {
     "name": "stdout",
     "output_type": "stream",
     "text": [
      "{34, 22, 23, 56, 89, 11, 14}\n"
     ]
    }
   ],
   "source": [
    "# No duplicate data but multiple\n",
    "s ={34,56,22,89,14,11,23,34,11,56}\n",
    "print(s)"
   ]
  },
  {
   "cell_type": "code",
   "execution_count": 4,
   "id": "d175b518",
   "metadata": {},
   "outputs": [
    {
     "data": {
      "text/plain": [
       "[34, 22, 23, 56, 89, 11, 14]"
      ]
     },
     "execution_count": 4,
     "metadata": {},
     "output_type": "execute_result"
    }
   ],
   "source": [
    "# convert in list\n",
    "s ={34,56,22,89,14,11,23}\n",
    "list(s)"
   ]
  },
  {
   "cell_type": "code",
   "execution_count": 7,
   "id": "47dbce37",
   "metadata": {},
   "outputs": [
    {
     "data": {
      "text/plain": [
       "[34, 11, 14, 22, 23, 56, 89]"
      ]
     },
     "execution_count": 7,
     "metadata": {},
     "output_type": "execute_result"
    }
   ],
   "source": [
    "s =[34,56,22,89,14,11,23,34,11,56]\n",
    "list(set(s))"
   ]
  },
  {
   "cell_type": "code",
   "execution_count": 9,
   "id": "35ec9dcc",
   "metadata": {},
   "outputs": [
    {
     "name": "stdout",
     "output_type": "stream",
     "text": [
      "{'ball', 'apple', 'cat'}\n"
     ]
    }
   ],
   "source": [
    "# add a new value  mutable\n",
    "s =set()\n",
    "s.add('apple')\n",
    "s.add('ball')\n",
    "s.add('cat')\n",
    "print(s)"
   ]
  },
  {
   "cell_type": "code",
   "execution_count": 2,
   "id": "108fb265",
   "metadata": {},
   "outputs": [
    {
     "name": "stdout",
     "output_type": "stream",
     "text": [
      "enter the no = 3\n",
      "enter x = 232\n",
      "enter x = 545\n",
      "enter x = 765\n"
     ]
    },
    {
     "data": {
      "text/plain": [
       "{'232', '545', '765'}"
      ]
     },
     "execution_count": 2,
     "metadata": {},
     "output_type": "execute_result"
    }
   ],
   "source": [
    "s =set()\n",
    "n =int(input(\"enter the no = \"))\n",
    "for i in range(n):\n",
    "    x =input(\"enter x = \")\n",
    "    s.add(x)\n",
    "s"
   ]
  },
  {
   "cell_type": "code",
   "execution_count": 1,
   "id": "841a2a96",
   "metadata": {},
   "outputs": [
    {
     "data": {
      "text/plain": [
       "{'243', '546', '678', '8576'}"
      ]
     },
     "execution_count": 1,
     "metadata": {},
     "output_type": "execute_result"
    }
   ],
   "source": [
    "# remove data\n",
    "s ={'132','243','546','678','8576'}\n",
    "s.remove('132')\n",
    "s"
   ]
  },
  {
   "cell_type": "code",
   "execution_count": 3,
   "id": "b141b8e0",
   "metadata": {},
   "outputs": [
    {
     "ename": "TypeError",
     "evalue": "unsupported operand type(s) for *: 'set' and 'int'",
     "output_type": "error",
     "traceback": [
      "\u001b[1;31m---------------------------------------------------------------------------\u001b[0m",
      "\u001b[1;31mTypeError\u001b[0m                                 Traceback (most recent call last)",
      "Input \u001b[1;32mIn [3]\u001b[0m, in \u001b[0;36m<cell line: 2>\u001b[1;34m()\u001b[0m\n\u001b[0;32m      1\u001b[0m s \u001b[38;5;241m=\u001b[39m{\u001b[38;5;124m'\u001b[39m\u001b[38;5;124m132\u001b[39m\u001b[38;5;124m'\u001b[39m,\u001b[38;5;124m'\u001b[39m\u001b[38;5;124m243\u001b[39m\u001b[38;5;124m'\u001b[39m,\u001b[38;5;124m'\u001b[39m\u001b[38;5;124m546\u001b[39m\u001b[38;5;124m'\u001b[39m,\u001b[38;5;124m'\u001b[39m\u001b[38;5;124m678\u001b[39m\u001b[38;5;124m'\u001b[39m,\u001b[38;5;124m'\u001b[39m\u001b[38;5;124m8576\u001b[39m\u001b[38;5;124m'\u001b[39m}\n\u001b[1;32m----> 2\u001b[0m \u001b[43ms\u001b[49m\u001b[43m \u001b[49m\u001b[38;5;241;43m*\u001b[39;49m\u001b[38;5;241;43m3\u001b[39;49m\n",
      "\u001b[1;31mTypeError\u001b[0m: unsupported operand type(s) for *: 'set' and 'int'"
     ]
    }
   ],
   "source": [
    "s ={'132','243','546','678','8576'}\n",
    "s *3"
   ]
  },
  {
   "cell_type": "code",
   "execution_count": 5,
   "id": "33db8e1c",
   "metadata": {},
   "outputs": [
    {
     "data": {
      "text/plain": [
       "{'Nabin', 'jack'}"
      ]
     },
     "execution_count": 5,
     "metadata": {},
     "output_type": "execute_result"
    }
   ],
   "source": [
    "apple ={\"Ram\",\"jobs\",'jack',\"sabin\",'Nabin'}\n",
    "ms ={\"Naresg\",\"Gates\",'jack',\"subin\",'Nabin'}\n",
    "apple.intersection(ms)"
   ]
  },
  {
   "cell_type": "code",
   "execution_count": 6,
   "id": "57da594b",
   "metadata": {},
   "outputs": [
    {
     "data": {
      "text/plain": [
       "{'Gates', 'Nabin', 'Naresg', 'Ram', 'jack', 'jobs', 'sabin', 'subin'}"
      ]
     },
     "execution_count": 6,
     "metadata": {},
     "output_type": "execute_result"
    }
   ],
   "source": [
    "apple.union(ms)"
   ]
  },
  {
   "cell_type": "code",
   "execution_count": 7,
   "id": "030b1a76",
   "metadata": {},
   "outputs": [
    {
     "data": {
      "text/plain": [
       "{'Gates', 'Nabin', 'Naresg', 'Ram', 'jack', 'jobs', 'sabin', 'subin'}"
      ]
     },
     "execution_count": 7,
     "metadata": {},
     "output_type": "execute_result"
    }
   ],
   "source": [
    "# to change origina value\n",
    "apple.update(ms)\n",
    "apple"
   ]
  },
  {
   "cell_type": "code",
   "execution_count": 8,
   "id": "83956769",
   "metadata": {},
   "outputs": [
    {
     "data": {
      "text/plain": [
       "{'Ram', 'jobs', 'sabin'}"
      ]
     },
     "execution_count": 8,
     "metadata": {},
     "output_type": "execute_result"
    }
   ],
   "source": [
    "# to check only apple enployee\n",
    "apple ={\"Ram\",\"jobs\",'jack',\"sabin\",'Nabin'}\n",
    "ms ={\"Naresg\",\"Gates\",'jack',\"subin\",'Nabin'}\n",
    "# apple.difference(ms)\n",
    "apple-ms\n"
   ]
  },
  {
   "cell_type": "code",
   "execution_count": 9,
   "id": "72eb777f",
   "metadata": {},
   "outputs": [
    {
     "data": {
      "text/plain": [
       "{'Gates', 'Naresg', 'subin'}"
      ]
     },
     "execution_count": 9,
     "metadata": {},
     "output_type": "execute_result"
    }
   ],
   "source": [
    "# to check only ms employee\n",
    "ms-apple"
   ]
  },
  {
   "cell_type": "code",
   "execution_count": 11,
   "id": "f007612a",
   "metadata": {},
   "outputs": [
    {
     "data": {
      "text/plain": [
       "{'Kis', 'john'}"
      ]
     },
     "execution_count": 11,
     "metadata": {},
     "output_type": "execute_result"
    }
   ],
   "source": [
    "# on the universal \n",
    "U ={'Gates','Nabin',\"Naresg\",\"Ram\",\"jack\",\"jobs\",\"sabin\",\"subin\",'Kis','john'}\n",
    "apple ={\"Ram\",\"jobs\",'jack',\"sabin\",'Nabin'}\n",
    "ms ={\"Naresg\",\"Gates\",'jack',\"subin\",'Nabin'}\n",
    "\n",
    "un =apple.union(ms)\n",
    "U-un"
   ]
  },
  {
   "cell_type": "code",
   "execution_count": 13,
   "id": "e262d554",
   "metadata": {},
   "outputs": [
    {
     "data": {
      "text/plain": [
       "{'html', 'python'}"
      ]
     },
     "execution_count": 13,
     "metadata": {},
     "output_type": "execute_result"
    }
   ],
   "source": [
    "# on linkin\n",
    "job ={'python','django','html','css'}\n",
    "u ={'python','html'}\n",
    "job.intersection(u)"
   ]
  },
  {
   "cell_type": "code",
   "execution_count": 14,
   "id": "02fb3e3f",
   "metadata": {},
   "outputs": [
    {
     "data": {
      "text/plain": [
       "2"
      ]
     },
     "execution_count": 14,
     "metadata": {},
     "output_type": "execute_result"
    }
   ],
   "source": [
    "job ={'python','django','html','css'}\n",
    "u ={'python','html'}\n",
    "len(job.intersection(u))"
   ]
  },
  {
   "cell_type": "code",
   "execution_count": 15,
   "id": "ba5a929d",
   "metadata": {},
   "outputs": [
    {
     "data": {
      "text/plain": [
       "50.0"
      ]
     },
     "execution_count": 15,
     "metadata": {},
     "output_type": "execute_result"
    }
   ],
   "source": [
    "len(job.intersection(u))/len(job)*100"
   ]
  },
  {
   "cell_type": "code",
   "execution_count": null,
   "id": "bbc5993d",
   "metadata": {},
   "outputs": [],
   "source": [
    "# use on voting machine,crupyo machine,linkin\n",
    "\n",
    "in set there is no mutable data type like list,"
   ]
  },
  {
   "cell_type": "code",
   "execution_count": null,
   "id": "23fe5dc4",
   "metadata": {},
   "outputs": [],
   "source": [
    "job ={('python','django'),'html','css')}"
   ]
  },
  {
   "cell_type": "code",
   "execution_count": 16,
   "id": "9ab9eed9",
   "metadata": {},
   "outputs": [
    {
     "data": {
      "text/plain": [
       "[(1, 2, 3), (4, 5, 6)]"
      ]
     },
     "execution_count": 16,
     "metadata": {},
     "output_type": "execute_result"
    }
   ],
   "source": [
    "# set inside list\n",
    "l =[(1,2,3),(4,5,6)]\n",
    "l"
   ]
  },
  {
   "cell_type": "code",
   "execution_count": 17,
   "id": "882a7568",
   "metadata": {},
   "outputs": [
    {
     "data": {
      "text/plain": [
       "({1, 2, 3}, {4, 5})"
      ]
     },
     "execution_count": 17,
     "metadata": {},
     "output_type": "execute_result"
    }
   ],
   "source": [
    "# set inside Touple\n",
    "T =({1,2,3},{4,5,})\n",
    "T"
   ]
  },
  {
   "cell_type": "code",
   "execution_count": 21,
   "id": "f90bebb2",
   "metadata": {},
   "outputs": [
    {
     "ename": "AttributeError",
     "evalue": "'set' object has no attribute 'unoion'",
     "output_type": "error",
     "traceback": [
      "\u001b[1;31m---------------------------------------------------------------------------\u001b[0m",
      "\u001b[1;31mAttributeError\u001b[0m                            Traceback (most recent call last)",
      "Input \u001b[1;32mIn [21]\u001b[0m, in \u001b[0;36m<cell line: 1>\u001b[1;34m()\u001b[0m\n\u001b[0;32m      1\u001b[0m d \u001b[38;5;241m=\u001b[39m {\u001b[38;5;124m\"\u001b[39m\u001b[38;5;124maplle\u001b[39m\u001b[38;5;124m\"\u001b[39m:{\u001b[38;5;124m\"\u001b[39m\u001b[38;5;124mRam\u001b[39m\u001b[38;5;124m\"\u001b[39m,\u001b[38;5;124m'\u001b[39m\u001b[38;5;124mjobs\u001b[39m\u001b[38;5;124m'\u001b[39m,\u001b[38;5;124m'\u001b[39m\u001b[38;5;124mJack\u001b[39m\u001b[38;5;124m'\u001b[39m,\u001b[38;5;124m'\u001b[39m\u001b[38;5;124msabin\u001b[39m\u001b[38;5;124m'\u001b[39m,\u001b[38;5;124m'\u001b[39m\u001b[38;5;124mNabin\u001b[39m\u001b[38;5;124m'\u001b[39m},\n\u001b[0;32m      2\u001b[0m               \u001b[38;5;124m\"\u001b[39m\u001b[38;5;124mms\u001b[39m\u001b[38;5;124m\"\u001b[39m:{\u001b[38;5;124m\"\u001b[39m\u001b[38;5;124mgates\u001b[39m\u001b[38;5;124m\"\u001b[39m,\u001b[38;5;124m\"\u001b[39m\u001b[38;5;124mNarsh\u001b[39m\u001b[38;5;124m\"\u001b[39m,\u001b[38;5;124m\"\u001b[39m\u001b[38;5;124mJack\u001b[39m\u001b[38;5;124m\"\u001b[39m,\u001b[38;5;124m'\u001b[39m\u001b[38;5;124msubin\u001b[39m\u001b[38;5;124m'\u001b[39m,\u001b[38;5;124m\"\u001b[39m\u001b[38;5;124mnabin\u001b[39m\u001b[38;5;124m\"\u001b[39m},\n\u001b[0;32m      3\u001b[0m      \u001b[38;5;124m\"\u001b[39m\u001b[38;5;124mint\u001b[39m\u001b[38;5;124m\"\u001b[39m:apple\u001b[38;5;241m.\u001b[39mintersection(ms),\n\u001b[1;32m----> 4\u001b[0m      \u001b[38;5;124m\"\u001b[39m\u001b[38;5;124munion\u001b[39m\u001b[38;5;124m\"\u001b[39m:\u001b[43mapple\u001b[49m\u001b[38;5;241;43m.\u001b[39;49m\u001b[43munoion\u001b[49m(ms)}\n\u001b[0;32m      5\u001b[0m d\n",
      "\u001b[1;31mAttributeError\u001b[0m: 'set' object has no attribute 'unoion'"
     ]
    }
   ],
   "source": [
    "d = {\"aplle\":{\"Ram\",'jobs','Jack','sabin','Nabin'},\n",
    "              \"ms\":{\"gates\",\"Narsh\",\"Jack\",'subin',\"nabin\"},\n",
    "     \"int\":apple.intersection(ms),\n",
    "     \"union\":apple.unoion(ms)}\n",
    "d"
   ]
  },
  {
   "cell_type": "code",
   "execution_count": null,
   "id": "6c9e18f3",
   "metadata": {},
   "outputs": [],
   "source": []
  },
  {
   "cell_type": "code",
   "execution_count": 18,
   "id": "f6abfd76",
   "metadata": {},
   "outputs": [
    {
     "data": {
      "text/plain": [
       "False"
      ]
     },
     "execution_count": 18,
     "metadata": {},
     "output_type": "execute_result"
    }
   ],
   "source": [
    "apple.isdisjoint(ms)\n"
   ]
  },
  {
   "cell_type": "code",
   "execution_count": null,
   "id": "fba49bfa",
   "metadata": {},
   "outputs": [],
   "source": [
    "a ={1,2,3,4,5,6,7,8,9,0}"
   ]
  }
 ],
 "metadata": {
  "kernelspec": {
   "display_name": "Python 3 (ipykernel)",
   "language": "python",
   "name": "python3"
  },
  "language_info": {
   "codemirror_mode": {
    "name": "ipython",
    "version": 3
   },
   "file_extension": ".py",
   "mimetype": "text/x-python",
   "name": "python",
   "nbconvert_exporter": "python",
   "pygments_lexer": "ipython3",
   "version": "3.9.12"
  }
 },
 "nbformat": 4,
 "nbformat_minor": 5
}
