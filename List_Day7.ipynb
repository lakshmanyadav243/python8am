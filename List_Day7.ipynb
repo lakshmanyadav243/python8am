{
 "cells": [
  {
   "cell_type": "code",
   "execution_count": null,
   "id": "f68329e3",
   "metadata": {},
   "outputs": [],
   "source": [
    "# python collection\n",
    "# list\n",
    "# tuple\n",
    "# set\n",
    "# dictionary\n"
   ]
  },
  {
   "cell_type": "code",
   "execution_count": null,
   "id": "a714d3f7",
   "metadata": {},
   "outputs": [],
   "source": [
    "#  indexing = b=['apple'[0],'boll'[]]\n",
    "#     multiple data = [1,2,3,4,5,6]\n",
    "#     dublicate data= ['apple','apple']\n",
    "#     ordered = what is insert(same word print)\n",
    "#     mutable (changeable)=\n"
   ]
  },
  {
   "cell_type": "code",
   "execution_count": 1,
   "id": "29238539",
   "metadata": {},
   "outputs": [
    {
     "name": "stdout",
     "output_type": "stream",
     "text": [
      "<class 'list'>\n"
     ]
    }
   ],
   "source": [
    "a =[]\n",
    "a =list()\n",
    "print(type(a))"
   ]
  },
  {
   "cell_type": "code",
   "execution_count": 2,
   "id": "07e4dc44",
   "metadata": {},
   "outputs": [
    {
     "name": "stdout",
     "output_type": "stream",
     "text": [
      "<class 'list'>\n",
      "<class 'list'>\n"
     ]
    }
   ],
   "source": [
    "a = [1,2,3,4,5]\n",
    "b = ['Apple','ball','cat']\n",
    "print(type(a))\n",
    "print(type(b))"
   ]
  },
  {
   "cell_type": "code",
   "execution_count": 5,
   "id": "a207d38a",
   "metadata": {},
   "outputs": [
    {
     "data": {
      "text/plain": [
       "'apple'"
      ]
     },
     "execution_count": 5,
     "metadata": {},
     "output_type": "execute_result"
    }
   ],
   "source": [
    "b =['apple','banana','cat']\n",
    "b[0]"
   ]
  },
  {
   "cell_type": "code",
   "execution_count": 2,
   "id": "3d76e965",
   "metadata": {},
   "outputs": [
    {
     "name": "stdout",
     "output_type": "stream",
     "text": [
      "<class 'list'>\n"
     ]
    }
   ],
   "source": [
    "b =['apple','banana','mango','apple']\n",
    "print(type(b))"
   ]
  },
  {
   "cell_type": "code",
   "execution_count": 3,
   "id": "12fcd02e",
   "metadata": {},
   "outputs": [
    {
     "data": {
      "text/plain": [
       "['apple', 'banana']"
      ]
     },
     "execution_count": 3,
     "metadata": {},
     "output_type": "execute_result"
    }
   ],
   "source": [
    "b =['apple','banana','mango','orange']\n",
    "b[0:2]"
   ]
  },
  {
   "cell_type": "code",
   "execution_count": 6,
   "id": "0cb21a93",
   "metadata": {},
   "outputs": [
    {
     "data": {
      "text/plain": [
       "['apple', 'mango']"
      ]
     },
     "execution_count": 6,
     "metadata": {},
     "output_type": "execute_result"
    }
   ],
   "source": [
    "b= ['apple','banana','mango','orange','ball']\n",
    "b[0:4:2]"
   ]
  },
  {
   "cell_type": "code",
   "execution_count": 7,
   "id": "4972db8c",
   "metadata": {},
   "outputs": [
    {
     "data": {
      "text/plain": [
       "5"
      ]
     },
     "execution_count": 7,
     "metadata": {},
     "output_type": "execute_result"
    }
   ],
   "source": [
    "len(b)"
   ]
  },
  {
   "cell_type": "code",
   "execution_count": 9,
   "id": "e4795b7a",
   "metadata": {},
   "outputs": [
    {
     "name": "stdout",
     "output_type": "stream",
     "text": [
      "['apple', 'banana', 'mango', 'orange', 'onion']\n"
     ]
    }
   ],
   "source": [
    "a=['apple','banana','mango']\n",
    "b=['orange','onion']\n",
    "c=a+b\n",
    "print(c)\n",
    "# print(a+b)"
   ]
  },
  {
   "cell_type": "code",
   "execution_count": 10,
   "id": "b9754ae8",
   "metadata": {},
   "outputs": [
    {
     "name": "stdout",
     "output_type": "stream",
     "text": [
      "['apple', 'banana', 'mango', 'apple', 'orange', 'onion']\n"
     ]
    }
   ],
   "source": [
    "a=['apple','banana','mango','apple']\n",
    "b=['orange','onion']\n",
    "c=a+b\n",
    "print(c)"
   ]
  },
  {
   "cell_type": "code",
   "execution_count": 12,
   "id": "f0c5b4d2",
   "metadata": {},
   "outputs": [
    {
     "data": {
      "text/plain": [
       "['p', 'y', 't', 'h', 'o']"
      ]
     },
     "execution_count": 12,
     "metadata": {},
     "output_type": "execute_result"
    }
   ],
   "source": [
    "list('pytho')"
   ]
  },
  {
   "cell_type": "code",
   "execution_count": 13,
   "id": "36e5958e",
   "metadata": {},
   "outputs": [
    {
     "data": {
      "text/plain": [
       "['apple', 'Banana', 'Cat', 'Apple', 'Orange']"
      ]
     },
     "execution_count": 13,
     "metadata": {},
     "output_type": "execute_result"
    }
   ],
   "source": [
    "a =['Apple','Banana','Cat','Apple','Orange']\n",
    "a[0] ='apple'\n",
    "a"
   ]
  },
  {
   "cell_type": "code",
   "execution_count": 15,
   "id": "afe3da45",
   "metadata": {},
   "outputs": [
    {
     "name": "stdout",
     "output_type": "stream",
     "text": [
      "apple\n",
      "banana\n",
      "cat\n",
      "mango\n"
     ]
    }
   ],
   "source": [
    "a =['apple','banana','cat','mango']\n",
    "for i in a:\n",
    "    print(i)"
   ]
  },
  {
   "cell_type": "code",
   "execution_count": 16,
   "id": "e0f6e495",
   "metadata": {},
   "outputs": [
    {
     "name": "stdout",
     "output_type": "stream",
     "text": [
      "apple\n",
      "banan\n",
      "cat\n",
      "mango\n"
     ]
    }
   ],
   "source": [
    "a =['apple','banan','cat','mango']\n",
    "l=len(a)\n",
    "for i in range(l):\n",
    "    print(a[i])"
   ]
  },
  {
   "cell_type": "code",
   "execution_count": 17,
   "id": "e53ff851",
   "metadata": {},
   "outputs": [
    {
     "name": "stdout",
     "output_type": "stream",
     "text": [
      "banana\n",
      "cat\n",
      "mango\n"
     ]
    }
   ],
   "source": [
    "a =['apple','banana','cat','mango',]\n",
    "for i in a:\n",
    "    if i !='apple':\n",
    "        print(i)"
   ]
  },
  {
   "cell_type": "code",
   "execution_count": 19,
   "id": "7f3a801a",
   "metadata": {},
   "outputs": [
    {
     "name": "stdout",
     "output_type": "stream",
     "text": [
      "Eneter n = 5\n",
      "enter x = 567\n",
      "enter x = 324\n",
      "enter x = 5\n",
      "enter x = 456\n",
      "enter x = 34\n",
      "[567, 324, 5, 456, 34]\n"
     ]
    }
   ],
   "source": [
    "a =list()\n",
    "n =int(input(\"Eneter n = \"))\n",
    "for i in range(n):\n",
    "    x = int(input(\"enter x = \"))\n",
    "    a =a+[x]\n",
    "print(a)\n",
    "    "
   ]
  },
  {
   "cell_type": "code",
   "execution_count": 20,
   "id": "2ec7a072",
   "metadata": {},
   "outputs": [
    {
     "name": "stdout",
     "output_type": "stream",
     "text": [
      "the max value =  567\n",
      "the min value = 5\n",
      "the sum =  1386\n",
      "the avg = 277.2\n",
      "[5, 34, 324, 456, 567]\n"
     ]
    }
   ],
   "source": [
    "print(\"the max value = \",max(a))\n",
    "print(\"the min value =\",min(a))\n",
    "print(\"the sum = \",sum(a))\n",
    "print(\"the avg =\",sum(a)/n)\n",
    "a.sort()\n",
    "print(a)"
   ]
  },
  {
   "cell_type": "code",
   "execution_count": 22,
   "id": "7b5d1976",
   "metadata": {},
   "outputs": [
    {
     "name": "stdout",
     "output_type": "stream",
     "text": [
      "['apple', 'banana', 'mango', 'orange']\n"
     ]
    }
   ],
   "source": [
    "# sort means in ascnding order\n",
    "a =['orange','mango','apple','banana',]\n",
    "a.sort()\n",
    "print(a)"
   ]
  },
  {
   "cell_type": "code",
   "execution_count": null,
   "id": "ed28da95",
   "metadata": {},
   "outputs": [],
   "source": [
    "# Add\n",
    "# append() insert() extend()\n",
    "\n",
    "# delete\n",
    "# del remove() pop()\n",
    "\n",
    "# for indexing\n",
    "# index()\n",
    "\n",
    "# value count\n",
    "# count()\n",
    "\n",
    "# calculation\n",
    "# sum() max() min()\n",
    "\n",
    "# sorting\n",
    "# sort() sorted()"
   ]
  }
 ],
 "metadata": {
  "kernelspec": {
   "display_name": "Python 3 (ipykernel)",
   "language": "python",
   "name": "python3"
  },
  "language_info": {
   "codemirror_mode": {
    "name": "ipython",
    "version": 3
   },
   "file_extension": ".py",
   "mimetype": "text/x-python",
   "name": "python",
   "nbconvert_exporter": "python",
   "pygments_lexer": "ipython3",
   "version": "3.9.12"
  }
 },
 "nbformat": 4,
 "nbformat_minor": 5
}
