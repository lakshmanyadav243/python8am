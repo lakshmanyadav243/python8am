{
 "cells": [
  {
   "cell_type": "code",
   "execution_count": 2,
   "id": "206510e9",
   "metadata": {},
   "outputs": [
    {
     "name": "stdout",
     "output_type": "stream",
     "text": [
      "Enter a no. = 15\n",
      "15 is odd\n"
     ]
    }
   ],
   "source": [
    "# If <condition>:\n",
    "#         <operation>\n",
    "# elif <condition>:\n",
    "#     <operation>\n",
    "# ....\n",
    "# ...\n",
    "# else:\n",
    "#     <operation>\n",
    "\n",
    "\n",
    "a = int(input(\"Enter a no. = \"))\n",
    "if a%2==0:\n",
    "    print(a,\"is even\")\n",
    "else:\n",
    "    print(a,\"is odd\")"
   ]
  },
  {
   "cell_type": "code",
   "execution_count": 3,
   "id": "0cb41876",
   "metadata": {},
   "outputs": [
    {
     "data": {
      "text/plain": [
       "True"
      ]
     },
     "execution_count": 3,
     "metadata": {},
     "output_type": "execute_result"
    }
   ],
   "source": [
    "# <, >, <=, >=, !=\n",
    "\n",
    "a = 10\n",
    "b = 5\n",
    "a>b"
   ]
  },
  {
   "cell_type": "code",
   "execution_count": 9,
   "id": "ba884a6d",
   "metadata": {},
   "outputs": [
    {
     "name": "stdout",
     "output_type": "stream",
     "text": [
      "False\n"
     ]
    }
   ],
   "source": [
    "a = 10\n",
    "b = 5\n",
    "print(a<=b)"
   ]
  },
  {
   "cell_type": "code",
   "execution_count": 13,
   "id": "a7b4bc4c",
   "metadata": {},
   "outputs": [
    {
     "name": "stdout",
     "output_type": "stream",
     "text": [
      "Enter a = 1\n",
      "Enter b = 1\n",
      "Both are euqal\n"
     ]
    }
   ],
   "source": [
    "a = int(input(\"Enter a = \"))\n",
    "b = int(input(\"Enter b = \"))\n",
    "if a>b:\n",
    "    print(a,'is greater')\n",
    "elif b>a:\n",
    "     print(b,'is greater')\n",
    "else:\n",
    "     print(\"Both are euqal\")\n",
    "\n"
   ]
  },
  {
   "cell_type": "code",
   "execution_count": 13,
   "id": "0fffc5eb",
   "metadata": {},
   "outputs": [
    {
     "name": "stdout",
     "output_type": "stream",
     "text": [
      "Enter a = 10\n",
      "Enter b = 2\n",
      "Enter + - * //\n",
      "5.0\n"
     ]
    }
   ],
   "source": [
    "a = int(input(\"Enter a = \"))\n",
    "b = int(input(\"Enter b = \"))\n",
    "o = input(\"Enter + - * /\")\n",
    "if o=='+':\n",
    "    print(a+b)\n",
    "elif o=='-':\n",
    "    print(a-b)\n",
    "elif o=='*':\n",
    "    print(a*b)\n",
    "elif o=='/':\n",
    "    print(a/b)\n",
    "else:\n",
    "    print(\"invalid operator\")\n"
   ]
  },
  {
   "cell_type": "code",
   "execution_count": 2,
   "id": "32b5b918",
   "metadata": {},
   "outputs": [
    {
     "data": {
      "text/plain": [
       "True"
      ]
     },
     "execution_count": 2,
     "metadata": {},
     "output_type": "execute_result"
    }
   ],
   "source": [
    "# & and\n",
    "\n",
    "True & True\n"
   ]
  },
  {
   "cell_type": "code",
   "execution_count": 3,
   "id": "91fbdb48",
   "metadata": {},
   "outputs": [
    {
     "data": {
      "text/plain": [
       "False"
      ]
     },
     "execution_count": 3,
     "metadata": {},
     "output_type": "execute_result"
    }
   ],
   "source": [
    "True & False\n"
   ]
  },
  {
   "cell_type": "code",
   "execution_count": 4,
   "id": "f84074b3",
   "metadata": {},
   "outputs": [
    {
     "data": {
      "text/plain": [
       "False"
      ]
     },
     "execution_count": 4,
     "metadata": {},
     "output_type": "execute_result"
    }
   ],
   "source": [
    "False & True\n"
   ]
  },
  {
   "cell_type": "code",
   "execution_count": 5,
   "id": "0bbb126f",
   "metadata": {},
   "outputs": [
    {
     "data": {
      "text/plain": [
       "False"
      ]
     },
     "execution_count": 5,
     "metadata": {},
     "output_type": "execute_result"
    }
   ],
   "source": [
    "False & False"
   ]
  },
  {
   "cell_type": "code",
   "execution_count": 9,
   "id": "dbd05873",
   "metadata": {},
   "outputs": [
    {
     "data": {
      "text/plain": [
       "True"
      ]
     },
     "execution_count": 9,
     "metadata": {},
     "output_type": "execute_result"
    }
   ],
   "source": [
    "# | or \n",
    "True | False\n"
   ]
  },
  {
   "cell_type": "code",
   "execution_count": 10,
   "id": "e508c79f",
   "metadata": {},
   "outputs": [
    {
     "data": {
      "text/plain": [
       "True"
      ]
     },
     "execution_count": 10,
     "metadata": {},
     "output_type": "execute_result"
    }
   ],
   "source": [
    "False | True"
   ]
  },
  {
   "cell_type": "code",
   "execution_count": 11,
   "id": "22212e3c",
   "metadata": {},
   "outputs": [
    {
     "data": {
      "text/plain": [
       "True"
      ]
     },
     "execution_count": 11,
     "metadata": {},
     "output_type": "execute_result"
    }
   ],
   "source": [
    "True | True\n"
   ]
  },
  {
   "cell_type": "code",
   "execution_count": 12,
   "id": "8ee2ad84",
   "metadata": {},
   "outputs": [
    {
     "data": {
      "text/plain": [
       "False"
      ]
     },
     "execution_count": 12,
     "metadata": {},
     "output_type": "execute_result"
    }
   ],
   "source": [
    "False | False"
   ]
  },
  {
   "cell_type": "code",
   "execution_count": 16,
   "id": "dd982b09",
   "metadata": {},
   "outputs": [
    {
     "name": "stdout",
     "output_type": "stream",
     "text": [
      "Enter a = 5\n",
      "Enter b = 5\n",
      "Enter + - * //\n",
      "1.0\n"
     ]
    }
   ],
   "source": [
    "a = int(input(\"Enter a = \"))\n",
    "b = int(input(\"Enter b = \"))\n",
    "o = input(\"Enter + - * /\")\n",
    "if o=='+':\n",
    "    print(a+b)\n",
    "elif o=='-':\n",
    "    print(a-b)\n",
    "elif o=='*':\n",
    "    print(a*b)\n",
    "elif o=='/' and (b !=0):\n",
    "    print(a/b) \n",
    "elif (o =='/') and (b == 0):\n",
    "        print(\"The value of b can not be zero\")\n",
    "else:\n",
    "    print(\"invalid operator\")\n"
   ]
  },
  {
   "cell_type": "code",
   "execution_count": 23,
   "id": "b6020419",
   "metadata": {},
   "outputs": [
    {
     "name": "stdout",
     "output_type": "stream",
     "text": [
      "Enter physics marks = 90\n",
      "Enter chemistry marks = 70\n",
      "Enter biology marks60\n",
      "B Grade\n"
     ]
    }
   ],
   "source": [
    "physics = int(input(\"Enter physics marks = \"))\n",
    "chemistry = int (input(\"Enter chemistry marks = \"))\n",
    "biology =  int(input(\"Enter biology marks\"))\n",
    "total = physics+chemistry+biology\n",
    "per = total/3\n",
    "if per>80 or per == 80:\n",
    "    print(\"A Grade\")\n",
    "elif per>60 or per == 60:\n",
    "    print(\"B Grade\")\n",
    "elif per>45 or per ==45:\n",
    "    print(\"c Grade\")\n",
    "else:\n",
    "    print(\"F Grade\")\n",
    "    "
   ]
  },
  {
   "cell_type": "code",
   "execution_count": 7,
   "id": "b5f4b63f",
   "metadata": {},
   "outputs": [
    {
     "ename": "NameError",
     "evalue": "name 'jhjh' is not defined",
     "output_type": "error",
     "traceback": [
      "\u001b[1;31m---------------------------------------------------------------------------\u001b[0m",
      "\u001b[1;31mNameError\u001b[0m                                 Traceback (most recent call last)",
      "Input \u001b[1;32mIn [7]\u001b[0m, in \u001b[0;36m<cell line: 6>\u001b[1;34m()\u001b[0m\n\u001b[0;32m      1\u001b[0m \u001b[38;5;66;03m# nest if\u001b[39;00m\n\u001b[0;32m      2\u001b[0m \u001b[38;5;66;03m# if <condition>:\u001b[39;00m\n\u001b[0;32m      3\u001b[0m \u001b[38;5;66;03m#     <operation>\u001b[39;00m\n\u001b[0;32m      4\u001b[0m \u001b[38;5;66;03m#     else <condition>:\u001b[39;00m\n\u001b[0;32m      5\u001b[0m \u001b[38;5;66;03m#         <operation>\u001b[39;00m\n\u001b[1;32m----> 6\u001b[0m \u001b[43mjhjh\u001b[49m\n",
      "\u001b[1;31mNameError\u001b[0m: name 'jhjh' is not defined"
     ]
    }
   ],
   "source": [
    "# nest if\n",
    "# if <condition>:\n",
    "#     <operation>\n",
    "#     else <condition>:\n",
    "#         <operation>\n",
    "jhjh"
   ]
  },
  {
   "cell_type": "code",
   "execution_count": 8,
   "id": "c3af9ef6",
   "metadata": {},
   "outputs": [
    {
     "name": "stdout",
     "output_type": "stream",
     "text": [
      "enter a no. 5\n",
      "5 is idd\n"
     ]
    }
   ],
   "source": [
    "# practice\n",
    "\n",
    "a = int(input(\"enter a no. \"))\n",
    "if a%2 ==0:\n",
    "    print(a,\"is even\")\n",
    "else:\n",
    "    print(a,\"is idd\")"
   ]
  },
  {
   "cell_type": "code",
   "execution_count": 12,
   "id": "f1a6ca15",
   "metadata": {},
   "outputs": [
    {
     "name": "stdout",
     "output_type": "stream",
     "text": [
      "enter a no. 15\n",
      "15 is odd\n"
     ]
    }
   ],
   "source": [
    "a = int(input(\"enter a no. \"))\n",
    "if a%2 ==0:\n",
    "    print(a,\"is even\")\n",
    "else:\n",
    "    print(a,\"is odd\")"
   ]
  },
  {
   "cell_type": "code",
   "execution_count": 16,
   "id": "2240bdb4",
   "metadata": {},
   "outputs": [
    {
     "name": "stdout",
     "output_type": "stream",
     "text": [
      "enter a =  5\n",
      "enter b =6\n",
      "6 is greater\n"
     ]
    }
   ],
   "source": [
    "a = int(input(\"enter a =  \"))\n",
    "b = int(input(\"enter b =\"))\n",
    "if a>b:\n",
    "    print(a,\"is greater\")\n",
    "elif b>a:\n",
    "    print(b,\"is greater\")\n",
    "else:\n",
    "    print(\"Both are equal\")\n"
   ]
  },
  {
   "cell_type": "code",
   "execution_count": null,
   "id": "4e0bbf77",
   "metadata": {},
   "outputs": [],
   "source": []
  }
 ],
 "metadata": {
  "kernelspec": {
   "display_name": "Python 3 (ipykernel)",
   "language": "python",
   "name": "python3"
  },
  "language_info": {
   "codemirror_mode": {
    "name": "ipython",
    "version": 3
   },
   "file_extension": ".py",
   "mimetype": "text/x-python",
   "name": "python",
   "nbconvert_exporter": "python",
   "pygments_lexer": "ipython3",
   "version": "3.9.12"
  }
 },
 "nbformat": 4,
 "nbformat_minor": 5
}
