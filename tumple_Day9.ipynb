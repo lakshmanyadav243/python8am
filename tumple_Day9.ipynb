{
 "cells": [
  {
   "cell_type": "code",
   "execution_count": null,
   "id": "5c6cf65d",
   "metadata": {},
   "outputs": [],
   "source": [
    "# Tumple\n",
    "# -indexing\n",
    "# -ordered\n",
    "# -Duplicate value\n",
    "# -Multiple values\n",
    "# -Imutable"
   ]
  },
  {
   "cell_type": "code",
   "execution_count": 1,
   "id": "195afe51",
   "metadata": {},
   "outputs": [
    {
     "name": "stdout",
     "output_type": "stream",
     "text": [
      "<class 'tuple'>\n",
      "<class 'tuple'>\n"
     ]
    }
   ],
   "source": [
    "a =(1,2,3,4,5,6,)\n",
    "b =('Apple','Ball','Cat')\n",
    "print(type(a))\n",
    "print(type(b))"
   ]
  },
  {
   "cell_type": "code",
   "execution_count": 2,
   "id": "e7281a26",
   "metadata": {},
   "outputs": [
    {
     "name": "stdout",
     "output_type": "stream",
     "text": [
      "Apple\n"
     ]
    }
   ],
   "source": [
    "b =('Apple','Ball','Cat')\n",
    "print(b[0])"
   ]
  },
  {
   "cell_type": "code",
   "execution_count": 4,
   "id": "e3a4bfe0",
   "metadata": {},
   "outputs": [
    {
     "name": "stdout",
     "output_type": "stream",
     "text": [
      "('Apple', 'Ball', 'Cat')\n"
     ]
    }
   ],
   "source": [
    "b =('Apple','Ball','Cat')\n",
    "print(b[0:3])"
   ]
  },
  {
   "cell_type": "code",
   "execution_count": 3,
   "id": "b4728e14",
   "metadata": {},
   "outputs": [
    {
     "name": "stdout",
     "output_type": "stream",
     "text": [
      "('Apple', 'Ball', 'Cat', 'dog', 'goat')\n"
     ]
    }
   ],
   "source": [
    "a =('Apple','Ball','Cat')\n",
    "b =('dog','goat')\n",
    "c =a+b\n",
    "print(c)"
   ]
  },
  {
   "cell_type": "code",
   "execution_count": 5,
   "id": "48d318f5",
   "metadata": {},
   "outputs": [
    {
     "data": {
      "text/plain": [
       "('Apple', 'Ball', 'Cat', 'Apple', 'Ball', 'Cat')"
      ]
     },
     "execution_count": 5,
     "metadata": {},
     "output_type": "execute_result"
    }
   ],
   "source": [
    "b =('Apple','Ball','Cat')\n",
    "b*2"
   ]
  },
  {
   "cell_type": "code",
   "execution_count": null,
   "id": "6e378e6f",
   "metadata": {},
   "outputs": [],
   "source": [
    "# No append()  insert()   extend()\n",
    "# No del pop()   remove()\n",
    "# No update()\n"
   ]
  },
  {
   "cell_type": "code",
   "execution_count": 9,
   "id": "990a6792",
   "metadata": {},
   "outputs": [
    {
     "data": {
      "text/plain": [
       "tuple"
      ]
     },
     "execution_count": 9,
     "metadata": {},
     "output_type": "execute_result"
    }
   ],
   "source": [
    "a =('apple',)\n",
    "type(a)"
   ]
  },
  {
   "cell_type": "code",
   "execution_count": 11,
   "id": "5eaf5959",
   "metadata": {},
   "outputs": [
    {
     "data": {
      "text/plain": [
       "('apple',)"
      ]
     },
     "execution_count": 11,
     "metadata": {},
     "output_type": "execute_result"
    }
   ],
   "source": [
    "a =tuple()\n",
    "b ='apple'\n",
    "a =a+(b,)\n",
    "a\n"
   ]
  },
  {
   "cell_type": "code",
   "execution_count": 12,
   "id": "78a36912",
   "metadata": {},
   "outputs": [
    {
     "data": {
      "text/plain": [
       "('apple', 'Ball')"
      ]
     },
     "execution_count": 12,
     "metadata": {},
     "output_type": "execute_result"
    }
   ],
   "source": [
    "a =tuple()\n",
    "b ='apple'\n",
    "c ='Ball'\n",
    "a =a+(b,)\n",
    "a =a+(c,)\n",
    "a\n"
   ]
  },
  {
   "cell_type": "code",
   "execution_count": 15,
   "id": "f7f36650",
   "metadata": {},
   "outputs": [
    {
     "name": "stdout",
     "output_type": "stream",
     "text": [
      "enter the no.= 2\n",
      "enter x = 12\n",
      "enter x = 1\n",
      "(12, 1)\n"
     ]
    }
   ],
   "source": [
    "t =tuple()\n",
    "n =int(input(\"enter the no.= \"))\n",
    "for i in range(n):\n",
    "    x = int(input(\"enter x = \"))\n",
    "    t =t+(x,)\n",
    "print(t)"
   ]
  },
  {
   "cell_type": "code",
   "execution_count": 21,
   "id": "73b24428",
   "metadata": {},
   "outputs": [
    {
     "data": {
      "text/plain": [
       "(23, 45, 23, 43)"
      ]
     },
     "execution_count": 21,
     "metadata": {},
     "output_type": "execute_result"
    }
   ],
   "source": [
    "# in rare case if we need to edit(change)tuple then convrsion to list\n",
    "\n",
    "t =(12,23,45,23,43)\n",
    "l =list(t)\n",
    "del l[0]\n",
    "t = tuple(l)\n",
    "t"
   ]
  },
  {
   "cell_type": "code",
   "execution_count": null,
   "id": "68352f92",
   "metadata": {},
   "outputs": [],
   "source": [
    "# we cac\n",
    "# max min sum\n",
    "# read search"
   ]
  },
  {
   "cell_type": "code",
   "execution_count": 27,
   "id": "6ba06e97",
   "metadata": {},
   "outputs": [
    {
     "name": "stdout",
     "output_type": "stream",
     "text": [
      "yes\n"
     ]
    }
   ],
   "source": [
    "a =('Ram','shyam','Hari','Sita')\n",
    "if 'Ram'in a:\n",
    "    print('yes')"
   ]
  },
  {
   "cell_type": "code",
   "execution_count": 28,
   "id": "aa5df41f",
   "metadata": {},
   "outputs": [
    {
     "data": {
      "text/plain": [
       "['Hari', 'Ram', 'Sita', 'shyam']"
      ]
     },
     "execution_count": 28,
     "metadata": {},
     "output_type": "execute_result"
    }
   ],
   "source": [
    "a =('Ram','shyam','Hari','Sita')\n",
    "sorted(a)"
   ]
  },
  {
   "cell_type": "code",
   "execution_count": null,
   "id": "dfe429f1",
   "metadata": {},
   "outputs": [],
   "source": [
    "# tuple inside tuple"
   ]
  },
  {
   "cell_type": "code",
   "execution_count": 30,
   "id": "eb007e6c",
   "metadata": {},
   "outputs": [
    {
     "name": "stdout",
     "output_type": "stream",
     "text": [
      "enter the no.= 3\n",
      "enter x = 5\n",
      "ener y = 6\n",
      "enter z=4\n",
      "enter x = 2\n",
      "ener y = 3\n",
      "enter z=1\n",
      "enter x = 6\n",
      "ener y = 8\n",
      "enter z=6\n",
      "((5, 6, 4), (2, 3, 1), (6, 8, 6))\n"
     ]
    }
   ],
   "source": [
    "# t =((1,2,3),\n",
    "#    (4,5,6),\n",
    "#    (7,8,9))\n",
    "\n",
    "\n",
    "t =tuple()\n",
    "n =int(input(\"enter the no.= \"))\n",
    "for i in range(n):\n",
    "    x = int(input(\"enter x = \"))\n",
    "    y = int(input(\"ener y = \"))\n",
    "    z = int(input(\"enter z=\"))\n",
    "    t =t+((x,y,z),)\n",
    "print(t)"
   ]
  },
  {
   "cell_type": "code",
   "execution_count": null,
   "id": "c3d59f9f",
   "metadata": {},
   "outputs": [],
   "source": []
  }
 ],
 "metadata": {
  "kernelspec": {
   "display_name": "Python 3 (ipykernel)",
   "language": "python",
   "name": "python3"
  },
  "language_info": {
   "codemirror_mode": {
    "name": "ipython",
    "version": 3
   },
   "file_extension": ".py",
   "mimetype": "text/x-python",
   "name": "python",
   "nbconvert_exporter": "python",
   "pygments_lexer": "ipython3",
   "version": "3.9.12"
  }
 },
 "nbformat": 4,
 "nbformat_minor": 5
}
