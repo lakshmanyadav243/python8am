{
 "cells": [
  {
   "cell_type": "code",
   "execution_count": 1,
   "id": "7fa2317f",
   "metadata": {},
   "outputs": [
    {
     "name": "stdout",
     "output_type": "stream",
     "text": [
      "<class 'str'>\n",
      "<class 'str'>\n",
      "<class 'str'>\n"
     ]
    }
   ],
   "source": [
    "# sting\n",
    "a = 'Hello world'\n",
    "b = 'Hello world'\n",
    "c = '''Hello world'''\n",
    "print(type(a))\n",
    "print(type(b))\n",
    "print(type(c))"
   ]
  },
  {
   "cell_type": "code",
   "execution_count": 3,
   "id": "3f7c4ca8",
   "metadata": {},
   "outputs": [
    {
     "name": "stdout",
     "output_type": "stream",
     "text": [
      "hello world\n",
      "hello world\n",
      "\n"
     ]
    }
   ],
   "source": [
    "# + *\n",
    "\n",
    "a = \"hello world\\n\"\n",
    "print(a*2)"
   ]
  },
  {
   "cell_type": "code",
   "execution_count": 4,
   "id": "b5b9434f",
   "metadata": {},
   "outputs": [
    {
     "name": "stdout",
     "output_type": "stream",
     "text": [
      "helloword\n"
     ]
    }
   ],
   "source": [
    "a = 'hello'\n",
    "b = 'word'\n",
    "c = a+b\n",
    "print(c)"
   ]
  },
  {
   "cell_type": "code",
   "execution_count": 6,
   "id": "29291225",
   "metadata": {},
   "outputs": [
    {
     "data": {
      "text/plain": [
       "10"
      ]
     },
     "execution_count": 6,
     "metadata": {},
     "output_type": "execute_result"
    }
   ],
   "source": [
    "a = int('10')\n",
    "a"
   ]
  },
  {
   "cell_type": "code",
   "execution_count": 15,
   "id": "4f4d3249",
   "metadata": {},
   "outputs": [
    {
     "data": {
      "text/plain": [
       "'hello'"
      ]
     },
     "execution_count": 15,
     "metadata": {},
     "output_type": "execute_result"
    }
   ],
   "source": [
    "a = 'hello word'\n",
    "b = a[0:5]\n",
    "b"
   ]
  },
  {
   "cell_type": "code",
   "execution_count": 8,
   "id": "89f68e31",
   "metadata": {},
   "outputs": [
    {
     "data": {
      "text/plain": [
       "'H'"
      ]
     },
     "execution_count": 8,
     "metadata": {},
     "output_type": "execute_result"
    }
   ],
   "source": [
    "a ='Hello word'\n",
    "a[0]"
   ]
  },
  {
   "cell_type": "code",
   "execution_count": 17,
   "id": "7577d71d",
   "metadata": {},
   "outputs": [
    {
     "data": {
      "text/plain": [
       "'Hlowr'"
      ]
     },
     "execution_count": 17,
     "metadata": {},
     "output_type": "execute_result"
    }
   ],
   "source": [
    "a ='Hello word'\n",
    "b = a[0:110:2]\n",
    "b"
   ]
  },
  {
   "cell_type": "code",
   "execution_count": 18,
   "id": "3cfabbef",
   "metadata": {},
   "outputs": [
    {
     "data": {
      "text/plain": [
       "'drow olleH'"
      ]
     },
     "execution_count": 18,
     "metadata": {},
     "output_type": "execute_result"
    }
   ],
   "source": [
    "a = 'Hello word'\n",
    "b = a[10::-1]\n",
    "b"
   ]
  },
  {
   "cell_type": "code",
   "execution_count": 19,
   "id": "75018e1e",
   "metadata": {},
   "outputs": [
    {
     "data": {
      "text/plain": [
       "'drow olleH'"
      ]
     },
     "execution_count": 19,
     "metadata": {},
     "output_type": "execute_result"
    }
   ],
   "source": [
    "a = 'Hello word'\n",
    "b = a[::-1]\n",
    "b"
   ]
  },
  {
   "cell_type": "code",
   "execution_count": 22,
   "id": "a9316395",
   "metadata": {},
   "outputs": [
    {
     "data": {
      "text/plain": [
       "'Hello my name is ram.i am 34.'"
      ]
     },
     "execution_count": 22,
     "metadata": {},
     "output_type": "execute_result"
    }
   ],
   "source": [
    "# string formatting\n",
    "\n",
    "name = 'ram'\n",
    "age = 34\n",
    "data = f\"Hello my name is {name}.i am {age}.\"\n",
    "data"
   ]
  },
  {
   "cell_type": "code",
   "execution_count": 25,
   "id": "9bd9e38a",
   "metadata": {},
   "outputs": [
    {
     "name": "stdout",
     "output_type": "stream",
     "text": [
      "enter nameram\n",
      "enter age32\n",
      "entre add =ktm\n"
     ]
    },
    {
     "data": {
      "text/plain": [
       "'Hello my name is ram.i am 32.i am fromktm.'"
      ]
     },
     "execution_count": 25,
     "metadata": {},
     "output_type": "execute_result"
    }
   ],
   "source": [
    "name = input(\"enter name\")\n",
    "age = int(input(\"enter age\"))\n",
    "add = input(\"entre add =\")\n",
    "data = f\"Hello my name is {name}.i am {age}.i am from {add}.\"\n",
    "data"
   ]
  },
  {
   "cell_type": "code",
   "execution_count": 27,
   "id": "6550cdcc",
   "metadata": {},
   "outputs": [
    {
     "name": "stdout",
     "output_type": "stream",
     "text": [
      "enter n = 2\n",
      "enter nameapple\n",
      "enter price10\n",
      "enter quantity10\n",
      "enter namebanan\n",
      "enter price20\n",
      "enter quantity5\n",
      "apple 10 10 100\n",
      "banan 20 5 100\n",
      "\n"
     ]
    }
   ],
   "source": [
    "s = str()\n",
    "n = int(input(\"enter n = \"))\n",
    "for i in range(n):\n",
    "    name = input(\"enter name\")\n",
    "    price = int(input(\"enter price\"))\n",
    "    quantity = int(input(\"enter quantity\"))\n",
    "    total = price*quantity\n",
    "    bill = f\"{name} {price} {quantity} {total}\\n\"\n",
    "    s = s+bill\n",
    "    \n",
    "print(s)\n",
    "    \n",
    "    "
   ]
  },
  {
   "cell_type": "code",
   "execution_count": 29,
   "id": "c9252e2d",
   "metadata": {},
   "outputs": [
    {
     "name": "stdout",
     "output_type": "stream",
     "text": [
      "enter n = 2\n",
      "enter names\n",
      "enter price10\n",
      "enter quantity10\n",
      "enter namewe\n",
      "enter price20\n",
      "enter quantity10\n"
     ]
    },
    {
     "data": {
      "text/plain": [
       "'s 10 10 100\\nwe 20 10 200\\n'"
      ]
     },
     "execution_count": 29,
     "metadata": {},
     "output_type": "execute_result"
    }
   ],
   "source": [
    "s = str()\n",
    "n = int(input(\"enter n = \"))\n",
    "for i in range(n):\n",
    "    name = input(\"enter name\")\n",
    "    price = int(input(\"enter price\"))\n",
    "    quantity = int(input(\"enter quantity\"))\n",
    "    total = price*quantity\n",
    "    bill = f\"{name} {price} {quantity} {total}\\n\"\n",
    "    s = s+bill\n",
    "    \n",
    "s"
   ]
  },
  {
   "cell_type": "code",
   "execution_count": 32,
   "id": "41d1c7a0",
   "metadata": {},
   "outputs": [
    {
     "name": "stdout",
     "output_type": "stream",
     "text": [
      "ram shyam hari gita ramesh"
     ]
    }
   ],
   "source": [
    "s = \"ram shyam hari gita ramesh\"\n",
    "for i in s:\n",
    "    print(i,end =\"\")"
   ]
  },
  {
   "cell_type": "code",
   "execution_count": 34,
   "id": "cfd1f7ae",
   "metadata": {},
   "outputs": [
    {
     "name": "stdout",
     "output_type": "stream",
     "text": [
      "yes\n"
     ]
    }
   ],
   "source": [
    "s = \"ram shyam hari gita ramesh\"\n",
    "if \"ram\" in s:\n",
    "    print(\"yes\")\n",
    "else:\n",
    "    print(\"no\")"
   ]
  },
  {
   "cell_type": "code",
   "execution_count": 38,
   "id": "2180e91e",
   "metadata": {},
   "outputs": [
    {
     "name": "stdout",
     "output_type": "stream",
     "text": [
      "enter s =rame\n",
      "yes\n",
      "1\n"
     ]
    }
   ],
   "source": [
    "s = \"ram shyam hari gita ramesh\"\n",
    "search = input(\"enter s =\")\n",
    "if \"ram\" in s:\n",
    "    print(\"yes\")\n",
    "    print(s.count(search))\n",
    "else:\n",
    "    print(\"no\")"
   ]
  },
  {
   "cell_type": "code",
   "execution_count": 1,
   "id": "5ab2e288",
   "metadata": {},
   "outputs": [
    {
     "name": "stdout",
     "output_type": "stream",
     "text": [
      "enter s =Ram\n",
      "yes\n",
      "1\n"
     ]
    }
   ],
   "source": [
    "s = \"Ram shyam hari gita ramesh\"\n",
    "search = input(\"enter s =\")\n",
    "if \"ram\" in s:\n",
    "    print(\"yes\")\n",
    "    print(s.count(search))\n",
    "else:\n",
    "    print(\"no\")"
   ]
  },
  {
   "cell_type": "code",
   "execution_count": 2,
   "id": "9dc3ded0",
   "metadata": {},
   "outputs": [
    {
     "data": {
      "text/plain": [
       "'RAM SHYAM HARI GITA RAMESH'"
      ]
     },
     "execution_count": 2,
     "metadata": {},
     "output_type": "execute_result"
    }
   ],
   "source": [
    "s = \"Ram shyam hari gita ramesh\"\n",
    "s.upper()"
   ]
  },
  {
   "cell_type": "code",
   "execution_count": 3,
   "id": "5fe2fa49",
   "metadata": {},
   "outputs": [
    {
     "data": {
      "text/plain": [
       "'ram shyam hari gita ramesh'"
      ]
     },
     "execution_count": 3,
     "metadata": {},
     "output_type": "execute_result"
    }
   ],
   "source": [
    "s = \"Ram shyam hari gita ramesh\"\n",
    "s.lower()"
   ]
  },
  {
   "cell_type": "code",
   "execution_count": 4,
   "id": "9144dfe8",
   "metadata": {},
   "outputs": [
    {
     "name": "stdout",
     "output_type": "stream",
     "text": [
      "RAM SHYAM HARI GITA RAMESH\n",
      "Ram shyam hari gita ramesh\n"
     ]
    }
   ],
   "source": [
    "s = \"Ram shyam hari gita ramesh\"\n",
    "print(s.upper())\n",
    "print(s)"
   ]
  },
  {
   "cell_type": "code",
   "execution_count": 5,
   "id": "563d65c3",
   "metadata": {},
   "outputs": [
    {
     "name": "stdout",
     "output_type": "stream",
     "text": [
      "ram shyam hari gita ramesh\n",
      "Ram shyam hari gita ramesh\n"
     ]
    }
   ],
   "source": [
    "s = \"Ram shyam hari gita ramesh\"\n",
    "print(s.lower())\n",
    "print(s)\n"
   ]
  },
  {
   "cell_type": "code",
   "execution_count": 8,
   "id": "1ac9c937",
   "metadata": {},
   "outputs": [
    {
     "name": "stdout",
     "output_type": "stream",
     "text": [
      "ram shyam hari gita ramesh\n"
     ]
    }
   ],
   "source": [
    "s = \"Ram shyam hari gita ramesh\"\n",
    "s = s.lower()\n",
    "print(s)"
   ]
  },
  {
   "cell_type": "code",
   "execution_count": 12,
   "id": "f2bff04c",
   "metadata": {},
   "outputs": [
    {
     "name": "stdout",
     "output_type": "stream",
     "text": [
      "enter s =ram\n",
      "yes\n",
      "2\n"
     ]
    }
   ],
   "source": [
    "# mutuable\n",
    "#  original value change\n",
    "\n",
    "s = \"Ram shyam hari gita Ramesh\".lower()\n",
    "search = input(\"enter s =\").lower()\n",
    "if \"ram\" in s:\n",
    "    print(\"yes\")\n",
    "    print(s.count(search))\n",
    "else:\n",
    "    print(\"no\")\n"
   ]
  },
  {
   "cell_type": "code",
   "execution_count": 14,
   "id": "af2fd8c2",
   "metadata": {},
   "outputs": [
    {
     "data": {
      "text/plain": [
       "'Ram shyam Hari gita Ramesh'"
      ]
     },
     "execution_count": 14,
     "metadata": {},
     "output_type": "execute_result"
    }
   ],
   "source": [
    "# replace asimple function that convert from one value to another\n",
    "\n",
    "s = \"Ram shyam hari gita Ramesh\"\n",
    "s = s.replace('hari','Hari')\n",
    "s\n"
   ]
  },
  {
   "cell_type": "code",
   "execution_count": 15,
   "id": "05f219a0",
   "metadata": {},
   "outputs": [
    {
     "data": {
      "text/plain": [
       "'Ram shyam  gita Ramesh'"
      ]
     },
     "execution_count": 15,
     "metadata": {},
     "output_type": "execute_result"
    }
   ],
   "source": [
    "\n",
    "# to replace sequence of character\n",
    "\n",
    "s = \"Ram shyam hari gita Ramesh\"\n",
    "s = s.replace('hari','')\n",
    "s\n"
   ]
  },
  {
   "cell_type": "code",
   "execution_count": 16,
   "id": "0748976e",
   "metadata": {},
   "outputs": [
    {
     "data": {
      "text/plain": [
       "['Ram', 'shyam', 'hari', 'gita', 'Ramesh']"
      ]
     },
     "execution_count": 16,
     "metadata": {},
     "output_type": "execute_result"
    }
   ],
   "source": [
    "\n",
    "# to convert list  wap to convert string to list\n",
    "s = \"Ram shyam hari gita Ramesh\"\n",
    "s.split()"
   ]
  },
  {
   "cell_type": "code",
   "execution_count": 19,
   "id": "21ba3a44",
   "metadata": {},
   "outputs": [
    {
     "data": {
      "text/plain": [
       "'Ram Shyam Hari Gita Ramesh'"
      ]
     },
     "execution_count": 19,
     "metadata": {},
     "output_type": "execute_result"
    }
   ],
   "source": [
    "# to make first capital\n",
    "s = \"ram shyam hari gita Ramesh\"\n",
    "s.title()"
   ]
  },
  {
   "cell_type": "code",
   "execution_count": 20,
   "id": "9a9ca384",
   "metadata": {},
   "outputs": [
    {
     "ename": "SyntaxError",
     "evalue": "invalid syntax (1558568933.py, line 5)",
     "output_type": "error",
     "traceback": [
      "\u001b[1;36m  Input \u001b[1;32mIn [20]\u001b[1;36m\u001b[0m\n\u001b[1;33m    for in range(2,n):\u001b[0m\n\u001b[1;37m        ^\u001b[0m\n\u001b[1;31mSyntaxError\u001b[0m\u001b[1;31m:\u001b[0m invalid syntax\n"
     ]
    }
   ],
   "source": [
    "#  prime or composite\n",
    "\n",
    "n = int(input(\"enter n = \"))\n",
    "if n>=2:\n",
    "    for in range(2,n):\n",
    "#     for i in range(1,n//2+1):\n",
    "        if n%i=0:\n",
    "        print(n,\"is composite\")\n",
    "        break\n",
    "        else:\n",
    "            print(n,\"is prime\")\n",
    "else:\n",
    "    print(\"the no. is neither composite nor prime\")\n",
    "            "
   ]
  },
  {
   "cell_type": "code",
   "execution_count": 1,
   "id": "c58f95d0",
   "metadata": {},
   "outputs": [
    {
     "name": "stdout",
     "output_type": "stream",
     "text": [
      "<class 'str'>\n",
      "<class 'str'>\n",
      "<class 'str'>\n"
     ]
    }
   ],
   "source": [
    "# practise\n",
    "a = 'Hello word'\n",
    "b = \"Hello word\"\n",
    "c = '''Hello word'''\n",
    "print(type(a))\n",
    "print(type(b))\n",
    "print(type(c))"
   ]
  },
  {
   "cell_type": "code",
   "execution_count": 3,
   "id": "0fb7ed36",
   "metadata": {},
   "outputs": [
    {
     "name": "stdout",
     "output_type": "stream",
     "text": [
      "Hello word\n",
      "Hello word\n",
      "Hello word\n",
      "\n"
     ]
    }
   ],
   "source": [
    "a = \"Hello word\\n\"\n",
    "print(a*3)"
   ]
  },
  {
   "cell_type": "code",
   "execution_count": 2,
   "id": "fd4f150b",
   "metadata": {},
   "outputs": [
    {
     "data": {
      "text/plain": [
       "10"
      ]
     },
     "execution_count": 2,
     "metadata": {},
     "output_type": "execute_result"
    }
   ],
   "source": [
    "a = '10'\n",
    "b = int(a)\n",
    "b\n"
   ]
  },
  {
   "cell_type": "code",
   "execution_count": 7,
   "id": "423cea34",
   "metadata": {},
   "outputs": [
    {
     "data": {
      "text/plain": [
       "'i'"
      ]
     },
     "execution_count": 7,
     "metadata": {},
     "output_type": "execute_result"
    }
   ],
   "source": [
    "a = 'i am a boy'\n",
    "b =a[0]\n",
    "b"
   ]
  },
  {
   "cell_type": "code",
   "execution_count": 8,
   "id": "b0a9ad90",
   "metadata": {},
   "outputs": [
    {
     "data": {
      "text/plain": [
       "'i am a b'"
      ]
     },
     "execution_count": 8,
     "metadata": {},
     "output_type": "execute_result"
    }
   ],
   "source": [
    "a = 'i am a boy'\n",
    "b = a[0:8]\n",
    "b"
   ]
  },
  {
   "cell_type": "code",
   "execution_count": 9,
   "id": "30f2d69f",
   "metadata": {},
   "outputs": [
    {
     "data": {
      "text/plain": [
       "'ia  o'"
      ]
     },
     "execution_count": 9,
     "metadata": {},
     "output_type": "execute_result"
    }
   ],
   "source": [
    "a ='i am a boy'\n",
    "b = a[0:10:2]\n",
    "b"
   ]
  },
  {
   "cell_type": "code",
   "execution_count": 10,
   "id": "d96e1070",
   "metadata": {},
   "outputs": [
    {
     "name": "stdout",
     "output_type": "stream",
     "text": [
      "my name islaxman. i live inkotahimai.i am 22 year.\n"
     ]
    }
   ],
   "source": [
    "name = 'laxman'\n",
    "add = 'kotahimai'\n",
    "age = 22\n",
    "data = f'my name is{name}. i live in{add}.i am {age} year.'\n",
    "print(data)"
   ]
  },
  {
   "cell_type": "code",
   "execution_count": null,
   "id": "b87929dd",
   "metadata": {},
   "outputs": [],
   "source": [
    "name = input(\"enter name\")\n",
    "add = input(\"enter add\")\n",
    "age = int(input(\"enter age\"))\n",
    "data = 'my name is {name}.i live in {add}.i am {age} year.'\n",
    "data"
   ]
  }
 ],
 "metadata": {
  "kernelspec": {
   "display_name": "Python 3 (ipykernel)",
   "language": "python",
   "name": "python3"
  },
  "language_info": {
   "codemirror_mode": {
    "name": "ipython",
    "version": 3
   },
   "file_extension": ".py",
   "mimetype": "text/x-python",
   "name": "python",
   "nbconvert_exporter": "python",
   "pygments_lexer": "ipython3",
   "version": "3.9.12"
  }
 },
 "nbformat": 4,
 "nbformat_minor": 5
}
