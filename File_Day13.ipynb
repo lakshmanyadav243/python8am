{
 "cells": [
  {
   "cell_type": "code",
   "execution_count": null,
   "id": "896fda0e",
   "metadata": {},
   "outputs": [],
   "source": [
    "# file = open('<file_path>','<mode>')\n",
    "# file.close()"
   ]
  },
  {
   "cell_type": "code",
   "execution_count": null,
   "id": "167b4be1",
   "metadata": {},
   "outputs": [],
   "source": [
    "# with open('file_name>','<mode>') as file:\n",
    "#     <operation>"
   ]
  },
  {
   "cell_type": "code",
   "execution_count": null,
   "id": "ca18c4fa",
   "metadata": {},
   "outputs": [],
   "source": [
    "# mode\n",
    "# read ->  'r'\n",
    "# create -> 'x'\n",
    "# write ->  'w'\n",
    "# append -> 'a'"
   ]
  },
  {
   "cell_type": "code",
   "execution_count": 1,
   "id": "f57f2ef9",
   "metadata": {},
   "outputs": [],
   "source": [
    "file =open('new_file.txt','x')\n",
    "file.close()"
   ]
  },
  {
   "cell_type": "code",
   "execution_count": 3,
   "id": "fc651443",
   "metadata": {},
   "outputs": [
    {
     "name": "stdout",
     "output_type": "stream",
     "text": [
      "the file is already exit\n"
     ]
    }
   ],
   "source": [
    "\n",
    "try:\n",
    "    file =open('new_file.txt','x')\n",
    "    file.close()\n",
    "except:\n",
    "    print('the file is already exit')\n",
    "    "
   ]
  },
  {
   "cell_type": "code",
   "execution_count": 3,
   "id": "805ceb0d",
   "metadata": {},
   "outputs": [
    {
     "name": "stdout",
     "output_type": "stream",
     "text": [
      "1.Hello world\n",
      "2.Hello world\n",
      "3.Hello world\n",
      "4.Hello world\n",
      "5.Hello world\n",
      "6.Hello world\n",
      "7.Hello world\n",
      "<class 'str'>\n"
     ]
    }
   ],
   "source": [
    "#read file\n",
    "file =open('new_file.txt','r')\n",
    "x=file.read()\n",
    "print(x)\n",
    "print(type(x))\n",
    "file.close()"
   ]
  },
  {
   "cell_type": "code",
   "execution_count": 6,
   "id": "3ddb511a",
   "metadata": {},
   "outputs": [
    {
     "name": "stdout",
     "output_type": "stream",
     "text": [
      "enter n= 2\n"
     ]
    },
    {
     "data": {
      "text/plain": [
       "'2.Hello world'"
      ]
     },
     "execution_count": 6,
     "metadata": {},
     "output_type": "execute_result"
    }
   ],
   "source": [
    "#for read single line on file.txt\n",
    "n =int(input(\"enter n= \"))\n",
    "x.split('\\n')[n-1]"
   ]
  },
  {
   "cell_type": "code",
   "execution_count": 7,
   "id": "faf6cdf0",
   "metadata": {},
   "outputs": [],
   "source": [
    "with open('data.txt','w')as file:\n",
    "    file.write('Hello world')"
   ]
  },
  {
   "cell_type": "code",
   "execution_count": 13,
   "id": "5f2c852f",
   "metadata": {},
   "outputs": [
    {
     "name": "stdout",
     "output_type": "stream",
     "text": [
      "Enter n= 2\n",
      "enter name =laxman\n",
      "enter age =23\n",
      "enter add =ktm\n",
      "enter name =baby\n",
      "enter age =34\n",
      "enter add =bhw\n"
     ]
    }
   ],
   "source": [
    "s=\"\"\n",
    "n=int(input(\"Enter n= \"))\n",
    "for i in range (n):\n",
    "    name =input(\"enter name =\")\n",
    "    age =input(\"enter age =\")\n",
    "    add= input(\"enter add =\")\n",
    "    s =s+f\"{name} {age} {add}\\n\"\n",
    "\n",
    "with open('data.txt','w')as file:\n",
    "    file.write(s)"
   ]
  },
  {
   "cell_type": "code",
   "execution_count": 12,
   "id": "58176830",
   "metadata": {},
   "outputs": [
    {
     "data": {
      "text/plain": [
       "'C:\\\\Users\\\\laxman\\\\Python_class'"
      ]
     },
     "execution_count": 12,
     "metadata": {},
     "output_type": "execute_result"
    }
   ],
   "source": [
    "pwd"
   ]
  },
  {
   "cell_type": "code",
   "execution_count": 15,
   "id": "d159ca9d",
   "metadata": {},
   "outputs": [
    {
     "name": "stdout",
     "output_type": "stream",
     "text": [
      "Enter n= 2\n",
      "enter name =paddy\n",
      "enter price100\n",
      "enter quantity =10\n",
      "enter name =wheat\n",
      "enter price23\n",
      "enter quantity =10\n",
      "paddy 100 10 1000\n",
      "wheat 23 10 230\n",
      "\n"
     ]
    }
   ],
   "source": [
    "s= str()\n",
    "n=int(input(\"Enter n= \"))\n",
    "for i in range(n):\n",
    "    name =input(\"enter name =\")\n",
    "    price =int(input(\"enter price\"))\n",
    "    quantity =int(input(\"enter quantity =\"))\n",
    "    total =price*quantity\n",
    "    bill=f\"{name} {price} {quantity} {total}\\n\"\n",
    "    s =s+bill\n",
    "    \n",
    "print(s)\n",
    "\n",
    "with open('data.txt','w')as file:\n",
    "    file.write(s)\n"
   ]
  },
  {
   "cell_type": "code",
   "execution_count": 16,
   "id": "0b4935d1",
   "metadata": {},
   "outputs": [
    {
     "name": "stdout",
     "output_type": "stream",
     "text": [
      "Enter n= 2\n",
      "enter name =ornge\n",
      "enter price90\n",
      "enter quantity =10\n",
      "enter name =apple\n",
      "enter price80\n",
      "enter quantity =10\n",
      "ornge, 90, 10, 900\n",
      "apple, 80, 10, 800\n",
      "\n"
     ]
    }
   ],
   "source": [
    "#csv file\n",
    "\n",
    "s= str()\n",
    "n=int(input(\"Enter n= \"))\n",
    "for i in range(n):\n",
    "    name =input(\"enter name =\")\n",
    "    price =int(input(\"enter price\"))\n",
    "    quantity =int(input(\"enter quantity =\"))\n",
    "    total =price*quantity\n",
    "    bill=f\"{name}, {price}, {quantity}, {total}\\n\"\n",
    "    s =s+bill\n",
    "    \n",
    "print(s)\n",
    "\n",
    "with open('data.csv','w')as file:\n",
    "    file.write('name,price,quantity,total\\n')\n",
    "    file.write(s)\n"
   ]
  },
  {
   "cell_type": "code",
   "execution_count": 2,
   "id": "e01c6e31",
   "metadata": {},
   "outputs": [
    {
     "data": {
      "text/html": [
       "<div>\n",
       "<style scoped>\n",
       "    .dataframe tbody tr th:only-of-type {\n",
       "        vertical-align: middle;\n",
       "    }\n",
       "\n",
       "    .dataframe tbody tr th {\n",
       "        vertical-align: top;\n",
       "    }\n",
       "\n",
       "    .dataframe thead th {\n",
       "        text-align: right;\n",
       "    }\n",
       "</style>\n",
       "<table border=\"1\" class=\"dataframe\">\n",
       "  <thead>\n",
       "    <tr style=\"text-align: right;\">\n",
       "      <th></th>\n",
       "      <th>sn</th>\n",
       "      <th>name</th>\n",
       "      <th>age</th>\n",
       "      <th>add</th>\n",
       "      <th>phone</th>\n",
       "    </tr>\n",
       "  </thead>\n",
       "  <tbody>\n",
       "    <tr>\n",
       "      <th>0</th>\n",
       "      <td>1</td>\n",
       "      <td>ram</td>\n",
       "      <td>22</td>\n",
       "      <td>ktm</td>\n",
       "      <td>9807878564</td>\n",
       "    </tr>\n",
       "    <tr>\n",
       "      <th>1</th>\n",
       "      <td>2</td>\n",
       "      <td>syam</td>\n",
       "      <td>45</td>\n",
       "      <td>bhw</td>\n",
       "      <td>9804423456</td>\n",
       "    </tr>\n",
       "    <tr>\n",
       "      <th>2</th>\n",
       "      <td>3</td>\n",
       "      <td>hari</td>\n",
       "      <td>34</td>\n",
       "      <td>btw</td>\n",
       "      <td>890764532</td>\n",
       "    </tr>\n",
       "    <tr>\n",
       "      <th>3</th>\n",
       "      <td>4</td>\n",
       "      <td>gita</td>\n",
       "      <td>23</td>\n",
       "      <td>bar</td>\n",
       "      <td>980453216</td>\n",
       "    </tr>\n",
       "    <tr>\n",
       "      <th>4</th>\n",
       "      <td>5</td>\n",
       "      <td>sita</td>\n",
       "      <td>98</td>\n",
       "      <td>fR</td>\n",
       "      <td>9807567453</td>\n",
       "    </tr>\n",
       "    <tr>\n",
       "      <th>5</th>\n",
       "      <td>6</td>\n",
       "      <td>rita</td>\n",
       "      <td>89</td>\n",
       "      <td>parasi</td>\n",
       "      <td>98067432</td>\n",
       "    </tr>\n",
       "  </tbody>\n",
       "</table>\n",
       "</div>"
      ],
      "text/plain": [
       "   sn  name  age     add       phone\n",
       "0   1   ram   22     ktm  9807878564\n",
       "1   2  syam   45     bhw  9804423456\n",
       "2   3  hari   34     btw   890764532\n",
       "3   4  gita   23     bar   980453216\n",
       "4   5  sita   98      fR  9807567453\n",
       "5   6  rita   89  parasi    98067432"
      ]
     },
     "execution_count": 2,
     "metadata": {},
     "output_type": "execute_result"
    }
   ],
   "source": [
    "#pip install pandas except ananconda eg vs code ,sublime,\n",
    "\n",
    "import pandas as pd\n",
    "df =pd.read_csv('data.csv')\n",
    "df\n"
   ]
  },
  {
   "cell_type": "code",
   "execution_count": 3,
   "id": "71a938f2",
   "metadata": {},
   "outputs": [],
   "source": [
    "import csv\n",
    "a =[['Momo',200,3,600],['coke',100,2,200]]\n",
    "with open('bill.csv','w')as file:\n",
    "    x =csv.writer(file)\n",
    "    x.writerows(a)"
   ]
  },
  {
   "cell_type": "code",
   "execution_count": 4,
   "id": "75d08fe0",
   "metadata": {},
   "outputs": [
    {
     "ename": "AttributeError",
     "evalue": "module 'csv' has no attribute 'DicReader'",
     "output_type": "error",
     "traceback": [
      "\u001b[1;31m---------------------------------------------------------------------------\u001b[0m",
      "\u001b[1;31mAttributeError\u001b[0m                            Traceback (most recent call last)",
      "Input \u001b[1;32mIn [4]\u001b[0m, in \u001b[0;36m<cell line: 2>\u001b[1;34m()\u001b[0m\n\u001b[0;32m      1\u001b[0m \u001b[38;5;28;01mimport\u001b[39;00m \u001b[38;5;21;01mcsv\u001b[39;00m\n\u001b[0;32m      2\u001b[0m \u001b[38;5;28;01mwith\u001b[39;00m \u001b[38;5;28mopen\u001b[39m(\u001b[38;5;124m'\u001b[39m\u001b[38;5;124mbill.csv\u001b[39m\u001b[38;5;124m'\u001b[39m,\u001b[38;5;124m'\u001b[39m\u001b[38;5;124mr\u001b[39m\u001b[38;5;124m'\u001b[39m)\u001b[38;5;28;01mas\u001b[39;00m file:\n\u001b[1;32m----> 3\u001b[0m     reader \u001b[38;5;241m=\u001b[39m\u001b[43mcsv\u001b[49m\u001b[38;5;241;43m.\u001b[39;49m\u001b[43mDicReader\u001b[49m(file)\n\u001b[0;32m      4\u001b[0m     \u001b[38;5;28;01mfor\u001b[39;00m i \u001b[38;5;129;01min\u001b[39;00m reader:\n\u001b[0;32m      5\u001b[0m         \u001b[38;5;28mprint\u001b[39m(i)\n",
      "\u001b[1;31mAttributeError\u001b[0m: module 'csv' has no attribute 'DicReader'"
     ]
    }
   ],
   "source": []
  },
  {
   "cell_type": "code",
   "execution_count": null,
   "id": "8431055d",
   "metadata": {},
   "outputs": [],
   "source": []
  }
 ],
 "metadata": {
  "kernelspec": {
   "display_name": "Python 3 (ipykernel)",
   "language": "python",
   "name": "python3"
  },
  "language_info": {
   "codemirror_mode": {
    "name": "ipython",
    "version": 3
   },
   "file_extension": ".py",
   "mimetype": "text/x-python",
   "name": "python",
   "nbconvert_exporter": "python",
   "pygments_lexer": "ipython3",
   "version": "3.9.12"
  }
 },
 "nbformat": 4,
 "nbformat_minor": 5
}
