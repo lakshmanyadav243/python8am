{
 "cells": [
  {
   "cell_type": "code",
   "execution_count": null,
   "id": "2fa7b38e",
   "metadata": {},
   "outputs": [],
   "source": [
    "# b is inherited from a\n",
    "class A:\n",
    "    pass\n",
    "class B(A):\n",
    "    pass\n",
    "\n",
    "obj =B()\n",
    "# obj =A()   a class not not inherited b"
   ]
  },
  {
   "cell_type": "code",
   "execution_count": 3,
   "id": "bd170dc2",
   "metadata": {},
   "outputs": [
    {
     "name": "stdout",
     "output_type": "stream",
     "text": [
      "enter name = laxman\n",
      "enter age =22\n",
      "Hello I am laxman.I am 22\n"
     ]
    }
   ],
   "source": [
    "class A:\n",
    "    def __init__(self):\n",
    "        self.name =input(\"enter name = \")\n",
    "        self.age = int(input(\"enter age =\"))\n",
    "        \n",
    "class B(A):\n",
    "    def info(self):\n",
    "        print(f\"Hello I am {self.name}.I am {self.age}\")\n",
    "obj =B()\n",
    "obj.info()"
   ]
  },
  {
   "cell_type": "code",
   "execution_count": 10,
   "id": "54dfd269",
   "metadata": {},
   "outputs": [
    {
     "name": "stdout",
     "output_type": "stream",
     "text": [
      "enter name = laxman\n",
      "enter age =11\n",
      "enter name = nk\n",
      "enter age =2\n",
      "Hello I am laxman.I am 11\n",
      "('laxman', 11)\n"
     ]
    }
   ],
   "source": [
    "class A:\n",
    "    def __init__(self):\n",
    "        self.name =input(\"enter name = \")               # public memeber\n",
    "        self.age = int(input(\"enter age =\"))\n",
    "        \n",
    "    def infos(self):\n",
    "            return self.name,self.age\n",
    "        \n",
    "class B(A):\n",
    "    def info(self):\n",
    "        print(f\"Hello I am {self.name}.I am {self.age}\")\n",
    "        \n",
    "obj =B()\n",
    "obj1 =A()\n",
    "obj.info()\n",
    "print(obj.infos())"
   ]
  },
  {
   "cell_type": "code",
   "execution_count": 11,
   "id": "2d8f4a27",
   "metadata": {},
   "outputs": [
    {
     "name": "stdout",
     "output_type": "stream",
     "text": [
      "Enter name =any\n",
      "enter age =34\n",
      "Hello I am any.I am 34\n",
      "('any', 34)\n"
     ]
    }
   ],
   "source": [
    "class A:\n",
    "    def __init__(self,name,age):\n",
    "        self.name =name              # public memeber\n",
    "        self.age = age\n",
    "        \n",
    "    def infos(self):\n",
    "            return self.name,self.age\n",
    "        \n",
    "class B(A):\n",
    "    def info(self):\n",
    "        print(f\"Hello I am {self.name}.I am {self.age}\")\n",
    "        \n",
    "        \n",
    "name =input(\"Enter name =\")\n",
    "age = int(input(\"enter age =\"))\n",
    "\n",
    "obj =B(name,age)\n",
    "obj.info()\n",
    "print(obj.infos())"
   ]
  },
  {
   "cell_type": "code",
   "execution_count": 14,
   "id": "868d1ac5",
   "metadata": {},
   "outputs": [
    {
     "name": "stdout",
     "output_type": "stream",
     "text": [
      "Enter name =lax\n",
      "enter age =67\n",
      "enter add =kotah\n"
     ]
    },
    {
     "ename": "TypeError",
     "evalue": "__init__() takes 3 positional arguments but 4 were given",
     "output_type": "error",
     "traceback": [
      "\u001b[1;31m---------------------------------------------------------------------------\u001b[0m",
      "\u001b[1;31mTypeError\u001b[0m                                 Traceback (most recent call last)",
      "Input \u001b[1;32mIn [14]\u001b[0m, in \u001b[0;36m<cell line: 22>\u001b[1;34m()\u001b[0m\n\u001b[0;32m     19\u001b[0m age \u001b[38;5;241m=\u001b[39m \u001b[38;5;28mint\u001b[39m(\u001b[38;5;28minput\u001b[39m(\u001b[38;5;124m\"\u001b[39m\u001b[38;5;124menter age =\u001b[39m\u001b[38;5;124m\"\u001b[39m))\n\u001b[0;32m     20\u001b[0m add \u001b[38;5;241m=\u001b[39m\u001b[38;5;28minput\u001b[39m(\u001b[38;5;124m\"\u001b[39m\u001b[38;5;124menter add =\u001b[39m\u001b[38;5;124m\"\u001b[39m)\n\u001b[1;32m---> 22\u001b[0m obj \u001b[38;5;241m=\u001b[39m\u001b[43mB\u001b[49m\u001b[43m(\u001b[49m\u001b[43mname\u001b[49m\u001b[43m,\u001b[49m\u001b[43mage\u001b[49m\u001b[43m,\u001b[49m\u001b[43madd\u001b[49m\u001b[43m)\u001b[49m\n\u001b[0;32m     23\u001b[0m obj\u001b[38;5;241m.\u001b[39minfo()\n\u001b[0;32m     24\u001b[0m \u001b[38;5;28mprint\u001b[39m(obj\u001b[38;5;241m.\u001b[39minfos())\n",
      "\u001b[1;31mTypeError\u001b[0m: __init__() takes 3 positional arguments but 4 were given"
     ]
    }
   ],
   "source": [
    "class A:\n",
    "    def __init__(self,name,age):\n",
    "        self.name =name              # public memeber\n",
    "        self.age = age\n",
    "        \n",
    "    def infos(self):\n",
    "            return self.name,self.age\n",
    "        \n",
    "class B(A):\n",
    "    def info(name,age,add):\n",
    "        self.add =add\n",
    "        A.__init__(self,name,age)\n",
    "        \n",
    "    def info(self):\n",
    "        print(f\"Hello I am {self.name}.I am {self.age}\")\n",
    "        \n",
    "        \n",
    "name =input(\"Enter name =\")\n",
    "age = int(input(\"enter age =\"))\n",
    "add =input(\"enter add =\")\n",
    "\n",
    "obj =B(name,age,add)\n",
    "obj.info()\n",
    "print(obj.infos())\n"
   ]
  },
  {
   "cell_type": "markdown",
   "id": "3bdc8d05",
   "metadata": {},
   "source": [
    "# multillevel inheritance\n",
    "class A:\n",
    "    pass\n",
    "class B(A):       \n",
    "    pass\n",
    "class C(B):\n",
    "    pass\n",
    "obj =c()"
   ]
  },
  {
   "cell_type": "code",
   "execution_count": null,
   "id": "e70256d6",
   "metadata": {},
   "outputs": [],
   "source": []
  },
  {
   "cell_type": "code",
   "execution_count": null,
   "id": "3a13cecf",
   "metadata": {},
   "outputs": [],
   "source": [
    "\n",
    "class A:\n",
    "    pass\n",
    "class B:\n",
    "    pass\n",
    "class C(B):\n",
    "    pass\n",
    "obj =c()"
   ]
  },
  {
   "cell_type": "code",
   "execution_count": null,
   "id": "b023616a",
   "metadata": {},
   "outputs": [],
   "source": [
    "class A:\n",
    "    pass\n",
    "\n",
    "class B:\n",
    "    pass\n",
    "\n",
    "class C(A,B):\n",
    "    pass\n",
    "\n",
    "obj =C()"
   ]
  },
  {
   "cell_type": "code",
   "execution_count": null,
   "id": "af4bf15b",
   "metadata": {},
   "outputs": [],
   "source": [
    "class A:\n",
    "    def __init__(self,name,age):\n",
    "        self.name =name              # public memeber\n",
    "        self.age = age\n",
    "        \n",
    "    def infos(self):\n",
    "            return self.name,self.age\n",
    "        \n",
    "    class B(A):\n",
    "        def __init__(self,)\n",
    "        \n",
    "class C(B):\n",
    "    def info(name,age,add):\n",
    "        self.add =add\n",
    "        A.__init__(self,name,age)\n",
    "        \n",
    "    def info(self):\n",
    "        print(f\"Hello I am {self.name}.I am {self.age}\")\n",
    "        \n",
    "        \n",
    "name =input(\"Enter name =\")\n",
    "age = int(input(\"enter age =\"))\n",
    "add =input(\"enter add =\")\n",
    "\n",
    "obj =B(name,age,add)\n",
    "obj.info()\n",
    "print(obj.infos())\n"
   ]
  },
  {
   "cell_type": "code",
   "execution_count": null,
   "id": "407ecf50",
   "metadata": {},
   "outputs": [],
   "source": [
    "4 nov day23"
   ]
  },
  {
   "cell_type": "code",
   "execution_count": null,
   "id": "a844d00a",
   "metadata": {},
   "outputs": [],
   "source": []
  },
  {
   "cell_type": "code",
   "execution_count": null,
   "id": "536ec5b6",
   "metadata": {},
   "outputs": [],
   "source": []
  },
  {
   "cell_type": "code",
   "execution_count": null,
   "id": "fcb9b237",
   "metadata": {},
   "outputs": [],
   "source": []
  }
 ],
 "metadata": {
  "kernelspec": {
   "display_name": "Python 3 (ipykernel)",
   "language": "python",
   "name": "python3"
  },
  "language_info": {
   "codemirror_mode": {
    "name": "ipython",
    "version": 3
   },
   "file_extension": ".py",
   "mimetype": "text/x-python",
   "name": "python",
   "nbconvert_exporter": "python",
   "pygments_lexer": "ipython3",
   "version": "3.9.12"
  }
 },
 "nbformat": 4,
 "nbformat_minor": 5
}
