{
 "cells": [
  {
   "cell_type": "code",
   "execution_count": null,
   "id": "896fda0e",
   "metadata": {},
   "outputs": [],
   "source": [
    "# file = open('<file_path>','<mode>')\n",
    "# file.close()"
   ]
  },
  {
   "cell_type": "code",
   "execution_count": null,
   "id": "8baccad9",
   "metadata": {},
   "outputs": [],
   "source": [
    "# with open('file_name>','<mode>') as file:\n",
    "#     <operation>"
   ]
  },
  {
   "cell_type": "code",
   "execution_count": null,
   "id": "f8112084",
   "metadata": {},
   "outputs": [],
   "source": [
    "# mode\n",
    "# read ->  'r'\n",
    "# create -> 'x'\n",
    "# write ->  'w'\n",
    "# append -> 'a'"
   ]
  },
  {
   "cell_type": "code",
   "execution_count": 1,
   "id": "0924c0c5",
   "metadata": {},
   "outputs": [],
   "source": [
    "file =open('new_file.txt','x')\n",
    "file.close()"
   ]
  },
  {
   "cell_type": "code",
   "execution_count": 3,
   "id": "19b75463",
   "metadata": {},
   "outputs": [
    {
     "name": "stdout",
     "output_type": "stream",
     "text": [
      "the file is already exit\n"
     ]
    }
   ],
   "source": [
    "\n",
    "try:\n",
    "    file =open('new_file.txt','x')\n",
    "    file.close()\n",
    "except:\n",
    "    print('the file is already exit')\n",
    "    "
   ]
  },
  {
   "cell_type": "code",
   "execution_count": 3,
   "id": "bb71b473",
   "metadata": {},
   "outputs": [
    {
     "name": "stdout",
     "output_type": "stream",
     "text": [
      "1.Hello world\n",
      "2.Hello world\n",
      "3.Hello world\n",
      "4.Hello world\n",
      "5.Hello world\n",
      "6.Hello world\n",
      "7.Hello world\n",
      "<class 'str'>\n"
     ]
    }
   ],
   "source": [
    "#read file\n",
    "file =open('new_file.txt','r')\n",
    "x=file.read()\n",
    "print(x)\n",
    "print(type(x))\n",
    "file.close()"
   ]
  },
  {
   "cell_type": "code",
   "execution_count": 6,
   "id": "bb9ea82f",
   "metadata": {},
   "outputs": [
    {
     "name": "stdout",
     "output_type": "stream",
     "text": [
      "enter n= 2\n"
     ]
    },
    {
     "data": {
      "text/plain": [
       "'2.Hello world'"
      ]
     },
     "execution_count": 6,
     "metadata": {},
     "output_type": "execute_result"
    }
   ],
   "source": [
    "#for read single line on file.txt\n",
    "n =int(input(\"enter n= \"))\n",
    "x.split('\\n')[n-1]"
   ]
  },
  {
   "cell_type": "code",
   "execution_count": 7,
   "id": "19679dad",
   "metadata": {},
   "outputs": [],
   "source": [
    "with open('data.txt','w')as file:\n",
    "    file.write('Hello world')"
   ]
  },
  {
   "cell_type": "code",
   "execution_count": 11,
   "id": "338e7d17",
   "metadata": {},
   "outputs": [
    {
     "name": "stdout",
     "output_type": "stream",
     "text": [
      "Enter n= 2\n",
      "enter name =laxa\n",
      "enter age =43\n",
      "enter add =ktm\n",
      "enter name =baby\n",
      "enter age =67\n",
      "enter add =bhw\n"
     ]
    }
   ],
   "source": [
    "s=\"\"\n",
    "n=int(input(\"Enter n= \"))\n",
    "for i in range (n):\n",
    "    name =input(\"enter name =\")\n",
    "    age =input(\"enter age =\")\n",
    "    add= input(\"enter add =\")\n",
    "    s =s+f\"{name} {age} {add}\\n\"\n",
    "\n",
    "with open('data.txt','w')as file:\n",
    "    file.write(s)"
   ]
  },
  {
   "cell_type": "code",
   "execution_count": 12,
   "id": "4657d15b",
   "metadata": {},
   "outputs": [
    {
     "data": {
      "text/plain": [
       "'C:\\\\Users\\\\laxman\\\\Python_class'"
      ]
     },
     "execution_count": 12,
     "metadata": {},
     "output_type": "execute_result"
    }
   ],
   "source": [
    "pwd"
   ]
  },
  {
   "cell_type": "code",
   "execution_count": null,
   "id": "f9bb54f7",
   "metadata": {},
   "outputs": [],
   "source": []
  }
 ],
 "metadata": {
  "kernelspec": {
   "display_name": "Python 3 (ipykernel)",
   "language": "python",
   "name": "python3"
  },
  "language_info": {
   "codemirror_mode": {
    "name": "ipython",
    "version": 3
   },
   "file_extension": ".py",
   "mimetype": "text/x-python",
   "name": "python",
   "nbconvert_exporter": "python",
   "pygments_lexer": "ipython3",
   "version": "3.9.12"
  }
 },
 "nbformat": 4,
 "nbformat_minor": 5
}
