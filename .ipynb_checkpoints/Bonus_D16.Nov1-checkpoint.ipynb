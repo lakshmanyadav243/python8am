{
 "cells": [
  {
   "cell_type": "code",
   "execution_count": null,
   "id": "245e9e0e",
   "metadata": {},
   "outputs": [],
   "source": [
    "# Comprehension:List,dictionary"
   ]
  },
  {
   "cell_type": "code",
   "execution_count": 3,
   "id": "990e9d21",
   "metadata": {},
   "outputs": [
    {
     "data": {
      "text/plain": [
       "[0, 1, 2, 3, 4]"
      ]
     },
     "execution_count": 3,
     "metadata": {},
     "output_type": "execute_result"
    }
   ],
   "source": [
    "l = [i for i in range(5)]\n",
    "l"
   ]
  },
  {
   "cell_type": "code",
   "execution_count": 4,
   "id": "3ba5ee4b",
   "metadata": {},
   "outputs": [
    {
     "data": {
      "text/plain": [
       "<generator object <genexpr> at 0x0000018C46EE20B0>"
      ]
     },
     "execution_count": 4,
     "metadata": {},
     "output_type": "execute_result"
    }
   ],
   "source": [
    "# in touple not support\n",
    "l =(i for i in range(5))\n",
    "l"
   ]
  },
  {
   "cell_type": "code",
   "execution_count": 5,
   "id": "fa6cebc1",
   "metadata": {},
   "outputs": [
    {
     "data": {
      "text/plain": [
       "[0, 2, 4, 6, 8]"
      ]
     },
     "execution_count": 5,
     "metadata": {},
     "output_type": "execute_result"
    }
   ],
   "source": [
    "l = [i for i in range(10) if i%2 ==0]\n",
    "l"
   ]
  },
  {
   "cell_type": "code",
   "execution_count": 6,
   "id": "96313633",
   "metadata": {},
   "outputs": [
    {
     "data": {
      "text/plain": [
       "[56]"
      ]
     },
     "execution_count": 6,
     "metadata": {},
     "output_type": "execute_result"
    }
   ],
   "source": [
    "a = [23,45,67,23,89,56,43]\n",
    "l = [x for x in a if x%2 ==0]\n",
    "l"
   ]
  },
  {
   "cell_type": "code",
   "execution_count": 7,
   "id": "d23bb863",
   "metadata": {},
   "outputs": [
    {
     "data": {
      "text/plain": [
       "['Dog']"
      ]
     },
     "execution_count": 7,
     "metadata": {},
     "output_type": "execute_result"
    }
   ],
   "source": [
    "a =[\"apple\",\"ball\",\"cat\",\"Dog\",\"fish\"]\n",
    "l =[x for x in a if x[0].isupper()]\n",
    "l"
   ]
  },
  {
   "cell_type": "code",
   "execution_count": 8,
   "id": "5cea3d2b",
   "metadata": {},
   "outputs": [
    {
     "data": {
      "text/plain": [
       "{1: 1, 2: 4, 3: 9, 4: 16, 5: 25, 6: 36, 7: 49, 8: 64, 9: 81, 10: 100}"
      ]
     },
     "execution_count": 8,
     "metadata": {},
     "output_type": "execute_result"
    }
   ],
   "source": [
    "d ={i:i**2 for i in range(1,11)}\n",
    "d"
   ]
  },
  {
   "cell_type": "code",
   "execution_count": 11,
   "id": "82a1b34b",
   "metadata": {},
   "outputs": [
    {
     "data": {
      "text/plain": [
       "{'apple': 'APPLE', 'ball': 'BALL', 'cat': 'CAT', 'dog': 'DOG', 'fish': 'FISH'}"
      ]
     },
     "execution_count": 11,
     "metadata": {},
     "output_type": "execute_result"
    }
   ],
   "source": [
    "# to convert in upper or lower case\n",
    "a =[\"apple\",\"ball\",\"cat\",\"dog\",\"fish\"]\n",
    "d ={i:i.upper() for i in a}\n",
    "d"
   ]
  },
  {
   "cell_type": "code",
   "execution_count": 12,
   "id": "da1a5ae6",
   "metadata": {},
   "outputs": [
    {
     "name": "stdout",
     "output_type": "stream",
     "text": [
      "Enter value = lax\n",
      "Enter value = lb\n",
      "Enter value = lak\n",
      "Enter value = sona\n",
      "Enter value = baby\n"
     ]
    },
    {
     "data": {
      "text/plain": [
       "['lax', 'lb', 'lak', 'sona', 'baby']"
      ]
     },
     "execution_count": 12,
     "metadata": {},
     "output_type": "execute_result"
    }
   ],
   "source": [
    "l =[input(\"Enter value = \") for i in range(5)]\n",
    "l"
   ]
  },
  {
   "cell_type": "code",
   "execution_count": 14,
   "id": "d799e116",
   "metadata": {},
   "outputs": [
    {
     "name": "stdout",
     "output_type": "stream",
     "text": [
      "Enter name = laxman\n",
      "Enter phone = 9816484172\n",
      "Enter name = babita\n",
      "Enter phone = 9827418759\n"
     ]
    },
    {
     "data": {
      "text/plain": [
       "{'laxman': 9816484172, 'babita': 9827418759}"
      ]
     },
     "execution_count": 14,
     "metadata": {},
     "output_type": "execute_result"
    }
   ],
   "source": [
    "d ={input(\"Enter name = \"):int(input(\"Enter phone = \")) for i in range(2)}\n",
    "d"
   ]
  },
  {
   "cell_type": "code",
   "execution_count": 15,
   "id": "f85389ba",
   "metadata": {},
   "outputs": [
    {
     "name": "stdout",
     "output_type": "stream",
     "text": [
      "2022-11-02 06:08:45.979065\n"
     ]
    }
   ],
   "source": [
    "# Date and Time\n",
    "\n",
    "import datetime\n",
    "\n",
    "x = datetime.datetime.now()\n",
    "print(x)\n"
   ]
  },
  {
   "cell_type": "code",
   "execution_count": 17,
   "id": "936de8ef",
   "metadata": {},
   "outputs": [
    {
     "name": "stdout",
     "output_type": "stream",
     "text": [
      "Wed\n"
     ]
    }
   ],
   "source": [
    "import datetime\n",
    "\n",
    "x = datetime.datetime.now()\n",
    "print(x.strftime(\"%a\"))\n"
   ]
  },
  {
   "cell_type": "code",
   "execution_count": 18,
   "id": "f33e89c2",
   "metadata": {},
   "outputs": [
    {
     "name": "stdout",
     "output_type": "stream",
     "text": [
      "Enter value =Hello world\n",
      "0:00:08.145272\n"
     ]
    }
   ],
   "source": [
    "# time calculation for running code\n",
    "import datetime\n",
    "\n",
    "x = datetime.datetime.now()\n",
    "value =input(\"Enter value =\")\n",
    "y = datetime.datetime.now()\n",
    "print(y-x)\n"
   ]
  },
  {
   "cell_type": "code",
   "execution_count": 20,
   "id": "c0f15523",
   "metadata": {
    "scrolled": true
   },
   "outputs": [
    {
     "data": {
      "text/plain": [
       "['.ipynb_checkpoints',\n",
       " 'Assigments.ipynb',\n",
       " 'Bonus_D20.20221101.ipynb',\n",
       " 'Day_1.ipynb',\n",
       " 'Day_2.ipynb',\n",
       " 'Day_3.loop.ipynb',\n",
       " 'Day_4Break_continue_statement.ipynb',\n",
       " 'Day_6string.ipynb',\n",
       " 'Dictionary_D10.ipynb',\n",
       " 'D_5whileloop.ipynb',\n",
       " 'File_Day13.ipynb',\n",
       " 'Function_D12.ipynb',\n",
       " 'List_Day7.ipynb',\n",
       " 'list_up_D8.ipynb',\n",
       " 'Mysql_Day15.ipynb',\n",
       " 'new_fil.txt',\n",
       " 'Set_day11.ipynb',\n",
       " 'tumple_Day9.ipynb']"
      ]
     },
     "execution_count": 20,
     "metadata": {},
     "output_type": "execute_result"
    }
   ],
   "source": [
    "# OS package\n",
    "import os\n",
    "# listdir() mkdir() chdir() remove rmdir() rename()\n",
    "os.listdir()"
   ]
  },
  {
   "cell_type": "code",
   "execution_count": null,
   "id": "7a3b012b",
   "metadata": {
    "collapsed": true
   },
   "outputs": [],
   "source": []
  }
 ],
 "metadata": {
  "kernelspec": {
   "display_name": "Python 3 (ipykernel)",
   "language": "python",
   "name": "python3"
  },
  "language_info": {
   "codemirror_mode": {
    "name": "ipython",
    "version": 3
   },
   "file_extension": ".py",
   "mimetype": "text/x-python",
   "name": "python",
   "nbconvert_exporter": "python",
   "pygments_lexer": "ipython3",
   "version": "3.9.12"
  }
 },
 "nbformat": 4,
 "nbformat_minor": 5
}
